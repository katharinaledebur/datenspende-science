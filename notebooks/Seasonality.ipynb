{
 "cells": [
  {
   "cell_type": "markdown",
   "id": "a3dd9036-e56e-49b1-95fb-dd26d87e1ddd",
   "metadata": {},
   "source": [
    "## Seasonaility\n",
    "\n",
    " \n",
    "\n",
    "\n",
    "https://rocs-dbt-docs.netlify.app/#!/model/model.data_pipelines.vitals_standardized_by_daily_aggregates "
   ]
  },
  {
   "cell_type": "markdown",
   "id": "81bfc1dc-c848-49ac-8e29-f95604d36a15",
   "metadata": {},
   "source": [
    "## Postgres database"
   ]
  },
  {
   "cell_type": "code",
   "execution_count": 2,
   "id": "19f11ddd-51bd-40bf-8183-2dba10eb49aa",
   "metadata": {
    "tags": []
   },
   "outputs": [],
   "source": [
    "from datenspende.utils import query_pg_df\n",
    "from psycopg.sql import SQL"
   ]
  },
  {
   "cell_type": "code",
   "execution_count": 1,
   "id": "8b41844f-094e-4244-978f-8e430148ac32",
   "metadata": {
    "tags": []
   },
   "outputs": [],
   "source": [
    "query = f\"\"\"\n",
    "\n",
    "select\n",
    "    vital.date, vital.type, vital.source, avg(vital.value) mean, stddev(vital.value) std\n",
    "from\n",
    "    \"rocs\".\"datenspende\".\"vitaldata\" vital\n",
    "where vital.user_id not in (\n",
    "    select\n",
    "        user_id\n",
    "    from\n",
    "        \"rocs\".\"datenspende_derivatives\".\"excluded_users\"\n",
    "    where\n",
    "            project = 'scripps colaboration long covid'\n",
    ")\n",
    "group by vital.date , vital.type, vital.source\"\"\""
   ]
  },
  {
   "cell_type": "code",
   "execution_count": 3,
   "id": "090af895-0679-4dd1-a0de-2170089f3614",
   "metadata": {
    "tags": []
   },
   "outputs": [
    {
     "name": "stderr",
     "output_type": "stream",
     "text": [
      "/home/jovyan/datenspende-science/datenspende/utils/load_from_postgres.py:45: UserWarning: pandas only supports SQLAlchemy connectable (engine/connection) or database string URI or sqlite3 DBAPI2 connection. Other DBAPI2 objects are not tested. Please consider using SQLAlchemy.\n",
      "  return pd.read_sql(query, conn)\n"
     ]
    }
   ],
   "source": [
    "df = query_pg_df(\n",
    "    SQL(query))"
   ]
  },
  {
   "cell_type": "code",
   "execution_count": 4,
   "id": "fa1988bb-0235-4627-a81a-99470b149852",
   "metadata": {
    "tags": []
   },
   "outputs": [
    {
     "data": {
      "text/html": [
       "<div>\n",
       "<style scoped>\n",
       "    .dataframe tbody tr th:only-of-type {\n",
       "        vertical-align: middle;\n",
       "    }\n",
       "\n",
       "    .dataframe tbody tr th {\n",
       "        vertical-align: top;\n",
       "    }\n",
       "\n",
       "    .dataframe thead th {\n",
       "        text-align: right;\n",
       "    }\n",
       "</style>\n",
       "<table border=\"1\" class=\"dataframe\">\n",
       "  <thead>\n",
       "    <tr style=\"text-align: right;\">\n",
       "      <th></th>\n",
       "      <th>date</th>\n",
       "      <th>type</th>\n",
       "      <th>source</th>\n",
       "      <th>mean</th>\n",
       "      <th>std</th>\n",
       "    </tr>\n",
       "  </thead>\n",
       "  <tbody>\n",
       "    <tr>\n",
       "      <th>0</th>\n",
       "      <td>2020-04-08</td>\n",
       "      <td>9</td>\n",
       "      <td>3</td>\n",
       "      <td>5.450667e+03</td>\n",
       "      <td>3630.953978</td>\n",
       "    </tr>\n",
       "    <tr>\n",
       "      <th>1</th>\n",
       "      <td>2020-04-08</td>\n",
       "      <td>9</td>\n",
       "      <td>4</td>\n",
       "      <td>8.727400e+03</td>\n",
       "      <td>6707.300858</td>\n",
       "    </tr>\n",
       "    <tr>\n",
       "      <th>2</th>\n",
       "      <td>2020-04-08</td>\n",
       "      <td>43</td>\n",
       "      <td>9</td>\n",
       "      <td>4.644000e+02</td>\n",
       "      <td>70.825843</td>\n",
       "    </tr>\n",
       "    <tr>\n",
       "      <th>3</th>\n",
       "      <td>2020-04-08</td>\n",
       "      <td>52</td>\n",
       "      <td>9</td>\n",
       "      <td>1.586293e+09</td>\n",
       "      <td>3132.494214</td>\n",
       "    </tr>\n",
       "    <tr>\n",
       "      <th>4</th>\n",
       "      <td>2020-04-08</td>\n",
       "      <td>53</td>\n",
       "      <td>9</td>\n",
       "      <td>1.586322e+09</td>\n",
       "      <td>1948.661079</td>\n",
       "    </tr>\n",
       "  </tbody>\n",
       "</table>\n",
       "</div>"
      ],
      "text/plain": [
       "         date  type  source          mean          std\n",
       "0  2020-04-08     9       3  5.450667e+03  3630.953978\n",
       "1  2020-04-08     9       4  8.727400e+03  6707.300858\n",
       "2  2020-04-08    43       9  4.644000e+02    70.825843\n",
       "3  2020-04-08    52       9  1.586293e+09  3132.494214\n",
       "4  2020-04-08    53       9  1.586322e+09  1948.661079"
      ]
     },
     "execution_count": 4,
     "metadata": {},
     "output_type": "execute_result"
    }
   ],
   "source": [
    "df.head()"
   ]
  },
  {
   "cell_type": "code",
   "execution_count": 5,
   "id": "b38ff77f-a0c3-4bd6-9e95-74cc623af3fb",
   "metadata": {
    "tags": []
   },
   "outputs": [
    {
     "data": {
      "text/plain": [
       "array([ 9, 43, 52, 53, 65, 66])"
      ]
     },
     "execution_count": 5,
     "metadata": {},
     "output_type": "execute_result"
    }
   ],
   "source": [
    "df['type'].unique()"
   ]
  },
  {
   "cell_type": "code",
   "execution_count": 7,
   "id": "babd059a-e891-43a2-a265-1284de594a76",
   "metadata": {
    "tags": []
   },
   "outputs": [],
   "source": [
    "import pandas as pd"
   ]
  },
  {
   "cell_type": "code",
   "execution_count": 8,
   "id": "1fa56af2-35d2-49db-b7ee-0654990f3eae",
   "metadata": {
    "tags": []
   },
   "outputs": [],
   "source": [
    "value_types = pd.read_csv('epoch_value_types.csv')"
   ]
  },
  {
   "cell_type": "code",
   "execution_count": 16,
   "id": "96921a88-054a-414a-aa48-d659fc724824",
   "metadata": {
    "tags": []
   },
   "outputs": [],
   "source": [
    "df[(df.type == 65)].to_csv('mean_rhr_pdps.csv')"
   ]
  },
  {
   "cell_type": "code",
   "execution_count": 19,
   "id": "f1ec25a5-a820-4ee7-8930-43603aec2464",
   "metadata": {
    "tags": []
   },
   "outputs": [],
   "source": [
    "df[(df.type == 9)].to_csv('mean_steps_pdps.csv')"
   ]
  },
  {
   "cell_type": "code",
   "execution_count": 18,
   "id": "7c96a3b9-4155-4277-8418-ed542ad604bd",
   "metadata": {
    "tags": []
   },
   "outputs": [
    {
     "name": "stdout",
     "output_type": "stream",
     "text": [
      "<class 'pandas.core.frame.DataFrame'>\n",
      "RangeIndex: 34898 entries, 0 to 34897\n",
      "Data columns (total 5 columns):\n",
      " #   Column  Non-Null Count  Dtype  \n",
      "---  ------  --------------  -----  \n",
      " 0   date    34898 non-null  object \n",
      " 1   type    34898 non-null  int64  \n",
      " 2   source  34898 non-null  int64  \n",
      " 3   mean    34898 non-null  float64\n",
      " 4   std     34521 non-null  float64\n",
      "dtypes: float64(2), int64(2), object(1)\n",
      "memory usage: 1.3+ MB\n"
     ]
    }
   ],
   "source": [
    "df.info()"
   ]
  },
  {
   "cell_type": "code",
   "execution_count": null,
   "id": "28c56c68-cc30-4988-a0fb-978e7f78a037",
   "metadata": {},
   "outputs": [],
   "source": []
  }
 ],
 "metadata": {
  "kernelspec": {
   "display_name": "Python (epoch_kl)",
   "language": "python",
   "name": "epoch_kl"
  },
  "language_info": {
   "codemirror_mode": {
    "name": "ipython",
    "version": 3
   },
   "file_extension": ".py",
   "mimetype": "text/x-python",
   "name": "python",
   "nbconvert_exporter": "python",
   "pygments_lexer": "ipython3",
   "version": "3.10.10"
  }
 },
 "nbformat": 4,
 "nbformat_minor": 5
}
