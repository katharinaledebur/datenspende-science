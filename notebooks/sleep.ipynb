{
 "cells": [
  {
   "cell_type": "code",
   "execution_count": null,
   "id": "c3edd675-f7c2-4c5f-ae03-fa0f0418ec54",
   "metadata": {},
   "outputs": [],
   "source": [
    "import numpy as np\n",
    "import pandas as pd \n",
    "import matplotlib.pyplot as plt\n",
    "from datenspende.utils import query_ch_df, query_pg_df\n",
    "import datetime\n",
    "from datetime import date\n",
    "import warnings\n",
    "warnings.simplefilter(action='ignore', category=FutureWarning)\n",
    "import re\n",
    "import os\n",
    "import glob\n",
    "from functools import reduce\n",
    "import seaborn as sns"
   ]
  },
  {
   "cell_type": "code",
   "execution_count": null,
   "id": "961cb253-2f9d-4666-9577-925420c9a93f",
   "metadata": {},
   "outputs": [],
   "source": [
    "lc_u = np.load('uid_per_shb_fatigue(1).npy')"
   ]
  },
  {
   "cell_type": "code",
   "execution_count": null,
   "id": "69b6023e-7e25-46c5-a619-ae1ad51a2775",
   "metadata": {},
   "outputs": [],
   "source": [
    "path = os.getcwd()+'/user_epoch/'\n",
    "#path = os.getcwd()+'/extcoh/'\n",
    "csv_files = glob.glob(os.path.join(path, \"*.csv\"))\n",
    "\n",
    "df_lcu = []\n",
    "demo_info = []\n",
    "uid = []\n",
    "for f in csv_files:\n",
    "      \n",
    "    # read the csv file\n",
    "    df = pd.read_csv(f, index_col = 0)\n",
    "    #for var in ['sleep', 'hr', 'steps']:\n",
    "    #    if var not in df.columns:\n",
    "    #        df[var] = np.nan\n",
    "    df_lcu.append(df)\n",
    "    demo_info.append(f.split(\"/\")[-1].split('.')[0])\n",
    "    uid.append(int(f.split(\"/\")[-1].split('.')[1][1:])) \n",
    "      \n",
    "sex = [re.split('(\\d+)',demo_info[i])[0] for i in range(len(demo_info))]\n",
    "age = [int(re.split('(\\d+)',demo_info[i])[1]) for i in range(len(demo_info))] "
   ]
  },
  {
   "cell_type": "code",
   "execution_count": null,
   "id": "a084d4c7-a065-4268-8110-414d5919a300",
   "metadata": {
    "tags": []
   },
   "outputs": [],
   "source": [
    "path = os.getcwd()+'/user_epoch/'\n",
    "csv_files = glob.glob(os.path.join(path, \"*.csv\"))\n",
    "\n",
    "uid = []\n",
    "sex = []\n",
    "age = []\n",
    "df_lcu = []\n",
    "for f in csv_files:\n",
    "      \n",
    "    # read the csv file\n",
    "    df = pd.read_csv(f, index_col = 0)\n",
    "    if len(df['phase'].unique()) >= 4 : #and 0 in df['phase'].unique() and 1 in df['phase'].unique()\n",
    "        if np.all([np.count_nonzero(df[df['phase']==ph]['hr'].notna()) > 100 for ph in df['phase'].unique()]):\n",
    "                 \n",
    "            df_lcu.append(df)\n",
    "            demo_info = f.split(\"/\")[-1].split('.')[0]\n",
    "            sex.append(re.split('(\\d+)',demo_info)[0])\n",
    "            age.append(int(re.split('(\\d+)',demo_info)[1]))\n",
    "            uid.append(int(f.split(\"/\")[-1].split('.')[1][1:])) "
   ]
  },
  {
   "cell_type": "markdown",
   "id": "19bd89a4-e46d-4789-8997-cf2bd705d7f3",
   "metadata": {},
   "source": [
    "## functions"
   ]
  },
  {
   "cell_type": "code",
   "execution_count": null,
   "id": "82a1c5fa-7de7-41c3-85ad-c151b22e04ed",
   "metadata": {
    "tags": []
   },
   "outputs": [],
   "source": [
    "def sliding_window(elements, window_size):\n",
    "    wi_days = []\n",
    "    for i in range(1,len(elements)+1):\n",
    "        if i >= window_size:\n",
    "            wi_days.append(elements[i-window_size:i])\n",
    "        elif i < window_size:\n",
    "            wi_days.append(elements[:i])\n",
    "    return wi_days"
   ]
  },
  {
   "cell_type": "markdown",
   "id": "ac27efb4-543f-47c8-ab90-9897143ad9a2",
   "metadata": {},
   "source": [
    "## simple timeseries"
   ]
  },
  {
   "cell_type": "code",
   "execution_count": null,
   "id": "658a7788-0a7a-4828-b4e3-8e09c9013844",
   "metadata": {
    "tags": []
   },
   "outputs": [],
   "source": [
    "# check_u = np.array([ 601007, 1217724, 1225571,  468824, 1232956,  146789,  198054,\n",
    "#         297815,  278688, 1220358,  120014, 1208175, 1225369,  865661,\n",
    "#        1116909,  203461, 1116926, 1245237,  827739,  357322, 1091037,\n",
    "#           8703,  494935, 1234389,  660061, 1148848,  859881, 1228834,\n",
    "#          83696, 1217773, 1110229, 1075521,  200221,  789093, 1227939,\n",
    "#         128235,  713054,  288844])"
   ]
  },
  {
   "cell_type": "code",
   "execution_count": null,
   "id": "1aaea878-107a-44db-9178-885a512e14b5",
   "metadata": {
    "tags": []
   },
   "outputs": [],
   "source": [
    "NU = [0,1,3,8,10,18,21,23,29,31,33,38,40,43,44,47]\n",
    "U = [u for u in range(len(df_lcu)) if u not in NU]"
   ]
  },
  {
   "cell_type": "code",
   "execution_count": null,
   "id": "1a562ded-6421-40a7-9eda-d7ddf9f65841",
   "metadata": {
    "tags": []
   },
   "outputs": [],
   "source": [
    "lid = np.where(np.array(uid) == 789093)[0][0]"
   ]
  },
  {
   "cell_type": "code",
   "execution_count": null,
   "id": "24419d5e-0dbe-4c56-b205-61bef2625ecc",
   "metadata": {
    "tags": []
   },
   "outputs": [],
   "source": [
    "#len(U)"
   ]
  },
  {
   "cell_type": "code",
   "execution_count": null,
   "id": "377b8353-ff45-4e0f-85f7-2d64fb20d9dd",
   "metadata": {
    "tags": []
   },
   "outputs": [],
   "source": [
    "#lid=U[30]"
   ]
  },
  {
   "cell_type": "code",
   "execution_count": null,
   "id": "03ab8b9f-d2fb-462f-9f6b-5a3ff5703ad7",
   "metadata": {
    "tags": []
   },
   "outputs": [],
   "source": [
    "age[lid]"
   ]
  },
  {
   "cell_type": "code",
   "execution_count": null,
   "id": "43045858-7464-478c-98bc-ce56b59ea034",
   "metadata": {
    "tags": []
   },
   "outputs": [],
   "source": [
    "sex[lid]"
   ]
  },
  {
   "cell_type": "code",
   "execution_count": null,
   "id": "b2b15e9e-f7e9-4e4a-8428-179d90a5bfe0",
   "metadata": {},
   "outputs": [],
   "source": [
    "n = lid\n",
    "df = df_lcu[n].copy()#dfs[0].copy()\n",
    "df['start'] = pd.to_datetime(df['start'])"
   ]
  },
  {
   "cell_type": "code",
   "execution_count": null,
   "id": "b6bf40ff-0b16-4263-8f8e-6076dc5c099c",
   "metadata": {
    "tags": []
   },
   "outputs": [],
   "source": [
    "userid = uid[n]"
   ]
  },
  {
   "cell_type": "code",
   "execution_count": null,
   "id": "dc5be2cb-41c9-4340-8f86-3e62e928eb9b",
   "metadata": {
    "tags": []
   },
   "outputs": [],
   "source": [
    "userid"
   ]
  },
  {
   "cell_type": "code",
   "execution_count": null,
   "id": "2194ad96-ed02-4a1a-8e41-3ed689313c71",
   "metadata": {},
   "outputs": [],
   "source": [
    "df['dt'] = pd.to_datetime(df['dt'])\n",
    "df['date'] = pd.to_datetime(df['date'])\n",
    "mis_row = []\n",
    "for dt in [d for d in pd.date_range(start = df['date'].min(), end = df['date'].max()).difference(df.index) if d not in df['date'].unique()]:\n",
    "    mis_row.append([\n",
    "            np.nan, np.nan, np.nan, np.nan, np.nan, np.nan, np.nan, dt, np.nan, np.nan, np.nan, np.nan, np.nan, np.nan, np.nan])\n",
    "if len(mis_row) > 0:\n",
    "    df = df.append(pd.DataFrame(data=mis_row, columns=df.columns))\n",
    "df['date'] = pd.to_datetime(df['date'])\n",
    "df = df.sort_values(by='date')\n",
    "df['start'] = pd.to_datetime(df['start']) \n",
    "dd = df.groupby('date').sum() "
   ]
  },
  {
   "cell_type": "code",
   "execution_count": null,
   "id": "264c93fd-1548-482d-ba51-1b892d24b5f7",
   "metadata": {
    "tags": []
   },
   "outputs": [],
   "source": [
    "def get_min(subd):\n",
    "    #subd['start'] = pd.to_datetime(subd['start'])\n",
    "    subd = subd[subd['start'].notna()]\n",
    "    if len(subd) > 0:\n",
    "        night_inact = subd[(subd['start'].dt.time < pd.to_datetime('07:00:00').time())&((subd['steps'].isna())|(subd['steps']==0))]['hr'].dropna()\n",
    "        night = subd[(subd['start'].dt.time < pd.to_datetime('07:00:00').time())]['hr'].dropna()\n",
    "         \n",
    "        if len(night) >= 10:\n",
    "            return night_inact.min(), night_inact.std()/np.sqrt(len(night_inact)), night.min(), night.std()/np.sqrt(len(night))\n",
    "        else:\n",
    "            return 0,0,0,0 \n",
    "    else:\n",
    "        return 0,0,0,0 "
   ]
  },
  {
   "cell_type": "code",
   "execution_count": null,
   "id": "b1b0b1c5-bf8b-47e7-97ae-9f227a8b742f",
   "metadata": {
    "tags": []
   },
   "outputs": [],
   "source": [
    "seas = pd.read_csv('mean_rhr_pdps.csv',index_col=0)"
   ]
  },
  {
   "cell_type": "code",
   "execution_count": null,
   "id": "2f6e4b5f-30ae-4d8e-a7f5-7f29afe1b59a",
   "metadata": {
    "tags": []
   },
   "outputs": [],
   "source": [
    "sc = df.source[df.source.notna()].iloc[0]\n",
    "seas_sc = seas[seas.source == sc].copy()\n",
    "seas_sc['date'] = pd.to_datetime(seas_sc['date'])\n",
    "#df = df[['start','rhr','hr','steps','date','day_of_week', 'dt','day_totest', 'week_totest','phase']]"
   ]
  },
  {
   "cell_type": "code",
   "execution_count": null,
   "id": "91feea14-dbb1-477d-b602-122e0678cdea",
   "metadata": {
    "tags": []
   },
   "outputs": [],
   "source": [
    "df_seas = pd.merge(df,seas_sc, how = 'inner', on ='date')"
   ]
  },
  {
   "cell_type": "code",
   "execution_count": null,
   "id": "305b012f-b8ab-46bf-bfb6-2e5ccce3f5f5",
   "metadata": {
    "tags": []
   },
   "outputs": [],
   "source": [
    "df_seas['hr_cl'] = df_seas['hr'] - df_seas['mean']\n",
    "df_seas['rhr_cl'] = df_seas['rhr'] - df_seas['mean']"
   ]
  },
  {
   "cell_type": "code",
   "execution_count": null,
   "id": "0e920b42-e286-4aea-b29e-62686b5de624",
   "metadata": {},
   "outputs": [],
   "source": [
    "df = df[(pd.to_timedelta(df.day_totest).dt.days > -63)&(pd.to_timedelta(df.day_totest).dt.days <= 120)]\n",
    "wi_list = sliding_window(df['date'].unique(),7)\n",
    "night_min = []\n",
    " \n",
    "night_std = []\n",
    "night_inact_min = []\n",
    " \n",
    "night_inact_std = []\n",
    " \n",
    "for wi in wi_list:\n",
    "    niam, nias, nm, ns = get_min(df_seas[df_seas['date'].isin(wi)])\n",
    "     \n",
    "    night_inact_min.append(niam)   \n",
    "    night_inact_std.append(nias)\n",
    "    night_min.append(nm)   \n",
    "    night_std.append(ns)\n",
    "     "
   ]
  },
  {
   "cell_type": "code",
   "execution_count": null,
   "id": "67b518df-7062-4b06-86fc-b3de27c8a568",
   "metadata": {
    "tags": []
   },
   "outputs": [],
   "source": [
    "plt.figure(figsize=(8,4))\n",
    " \n",
    "plt.scatter(pd.to_timedelta(df.day_totest.unique()).days,night_std, s= 2) \n",
    "plt.scatter(pd.to_timedelta(df.day_totest.unique()).days,night_inact_std, s= 2) \n",
    "plt.axvline(x=0,color='r')  \n",
    "#plt.xticks(range(len(night_min)),)\n",
    "#plt.xticks(range(len(night_min))[::30],labels = [str(pd.to_datetime(w[0]).month)+'. '+str(pd.to_datetime(w[0]).year) for w in wi_list][::30],rotation=60);\n",
    "#plt.ylim(0.05);\n",
    "#plt.xlim(330)\n",
    "plt.legend(['all', 'inactive'])\n",
    "plt.ylabel('HR std ')\n",
    "plt.xlabel('day to test');"
   ]
  },
  {
   "cell_type": "code",
   "execution_count": null,
   "id": "8397fc73-2aa9-467f-8474-75d12c7703f9",
   "metadata": {
    "tags": []
   },
   "outputs": [],
   "source": [
    "plt.figure(figsize=(8,4))\n",
    " \n",
    "plt.scatter(pd.to_timedelta(df.day_totest.unique()).days,night_min, s= 2) \n",
    "plt.scatter(pd.to_timedelta(df.day_totest.unique()).days,night_inact_min, s= 2) \n",
    "plt.axvline(x=0 ,color='r')  \n",
    "#plt.ylim(40);\n",
    "#plt.xlim(330)\n",
    "plt.legend(['all', 'inactive'])\n",
    "plt.ylabel('HR [bpm]')\n",
    "plt.xlabel('date');"
   ]
  },
  {
   "cell_type": "code",
   "execution_count": null,
   "id": "7f73ea4f-6317-4c69-958f-e4eb024fb1ad",
   "metadata": {
    "tags": []
   },
   "outputs": [],
   "source": [
    "df = df.sort_values('date')\n",
    "df.start = pd.to_datetime(df.start)\n",
    "d = df.copy()\n",
    "# take out days where there is no step entry at all \n",
    "d_idx = df.groupby('date').sum()[df.groupby('date').sum()['steps'] == 0].index\n",
    "df['clean'] = df['date'].apply(lambda x: 1 if x in d_idx else 0)\n",
    "df = df[df['clean'] == 0]\n",
    "df = df.drop('clean',axis=1)\n",
    "#\n",
    "d['steps'] = d['steps'].fillna(0)\n",
    "d['steps'] = d['steps'] + 1\n",
    "\n",
    "df_aggv = pd.merge(d[['start','hr','rhr', '% of MHR', 'sleep']].set_index('start').resample('60min').mean().reset_index(),d[['start','steps']].set_index('start').resample('60min').sum().reset_index(),how='outer',on='start')\n",
    "d_agg = pd.merge(df_aggv, d[['start','date','day_of_week','weekend','dt','day_totest','week_totest', 'phase', 'source','id']].set_index('start').resample('60min').first().reset_index(),how='outer',on='start')"
   ]
  },
  {
   "cell_type": "code",
   "execution_count": null,
   "id": "8145ee9d-7d1b-45e2-8b77-264ffe78175b",
   "metadata": {
    "tags": []
   },
   "outputs": [],
   "source": [
    "d_agg['steps'] -= 4"
   ]
  },
  {
   "cell_type": "code",
   "execution_count": null,
   "id": "26336a11-24b7-4432-8959-6d7bdef7e99c",
   "metadata": {
    "tags": []
   },
   "outputs": [],
   "source": [
    "dph = d_agg[(pd.to_timedelta(d_agg.day_totest).dt.days > -63) &(pd.to_timedelta(d_agg.day_totest).dt.days < 180)]#[(d_agg['phase'] == 1)]\n",
    "xhd_hr = np.zeros((24,len(dph.day_totest.unique())))\n",
    "for d in range(len(dph.day_totest.unique())):\n",
    "    if len(dph[(d_agg['day_totest'] == dph.day_totest.unique()[d] )]) == 24:\n",
    "        xhd_hr[:, d] = dph[(d_agg['day_totest'] == dph.day_totest.unique()[d] )]['hr'].values"
   ]
  },
  {
   "cell_type": "code",
   "execution_count": null,
   "id": "1e84fd98-0296-49b2-9432-a8b1a712c352",
   "metadata": {
    "tags": []
   },
   "outputs": [],
   "source": [
    "len(np.where(dph.date.unique() == pd.to_datetime('2022-03-27'))[0]) > 0\n"
   ]
  },
  {
   "cell_type": "code",
   "execution_count": null,
   "id": "b942c548-4814-46c5-a745-d0352b5b66d8",
   "metadata": {
    "tags": []
   },
   "outputs": [],
   "source": [
    "len(np.where(dph.date.unique() == pd.to_datetime('2022-10-30'))[0]) > 0"
   ]
  },
  {
   "cell_type": "code",
   "execution_count": null,
   "id": "a03c5687-c2d3-46a0-93bb-e2ed3277f53a",
   "metadata": {
    "tags": []
   },
   "outputs": [],
   "source": [
    "plt.figure(figsize=(30,7))\n",
    "g=sns.heatmap((xhd_hr ) ,   cmap='Blues_r',xticklabels=pd.to_timedelta(dph.day_totest.unique() ).days,\n",
    "                \n",
    "                cbar_kws={'label': 'Heart Rate [bpm]'})\n",
    "g.set_facecolor('xkcd:black')\n",
    "#plt.axvline(x=np.where(dph.date.unique() == pd.to_datetime('2022-10-30'))[0][0],c='r')\n",
    "#plt.axvline(x=np.where(dph.date.unique() == pd.to_datetime('2022-03-27'))[0][0],c='r')\n",
    "for xv in np.where(dph.groupby('date').mean().day_of_week == 0)[0]:\n",
    "    plt.axvline(x=xv, c = 'black')\n",
    "\n",
    "#plt.legend(['Time Change', r'Week'+'\\n'+'Start'], bbox_to_anchor=(1, 1))\n",
    "plt.legend([  r'Week'+'\\n'+'Start'], bbox_to_anchor=(1, 1))\n",
    "\n",
    "\n",
    "plt.tight_layout()\n",
    "plt.xlabel('Days to test')\n",
    "plt.ylabel('Hour of day');"
   ]
  },
  {
   "cell_type": "code",
   "execution_count": null,
   "id": "601b01e2-9419-4605-8ddf-d2848ebec110",
   "metadata": {
    "tags": []
   },
   "outputs": [],
   "source": [
    "dph = d_agg[(pd.to_timedelta(d_agg.day_totest).dt.days > -63) &(pd.to_timedelta(d_agg.day_totest).dt.days < 180)]#[(d_agg['phase'] == 1)]\n",
    "xhd = np.zeros((24,len(dph.day_totest.unique())))\n",
    "for d in range(len(dph.day_totest.unique())):\n",
    "    if len(dph[(d_agg['day_totest'] == dph.day_totest.unique()[d] )]) == 24:\n",
    "        xhd[:, d] = dph[(d_agg['day_totest'] == dph.day_totest.unique()[d] )]['steps'].values\n",
    "        "
   ]
  },
  {
   "cell_type": "code",
   "execution_count": null,
   "id": "21de1ea9-2fb4-49d9-b3a4-ec5c0f902439",
   "metadata": {
    "tags": []
   },
   "outputs": [],
   "source": [
    "len(np.where(dph.date.unique() == pd.to_datetime('2022-03-27'))[0]) > 0\n"
   ]
  },
  {
   "cell_type": "code",
   "execution_count": null,
   "id": "4cd6b652-7709-422b-8738-57fde8d60ea0",
   "metadata": {
    "tags": []
   },
   "outputs": [],
   "source": [
    "len(np.where(dph.date.unique() == pd.to_datetime('2022-10-30'))[0]) > 0"
   ]
  },
  {
   "cell_type": "code",
   "execution_count": null,
   "id": "384cc9c3-872d-490b-8a69-36b46c097154",
   "metadata": {
    "tags": []
   },
   "outputs": [],
   "source": [
    "plt.figure(figsize=(30,7))\n",
    "sns.heatmap((xhd ) ,   cmap='Greens_r',xticklabels=pd.to_timedelta(dph.day_totest.unique() ).days,\n",
    "                 \n",
    "                vmin = 0, vmax = 1000,\n",
    "                #vmin=-1, vmax=np.nanmax(xhd-norm)/norm,\n",
    "                cbar_kws={'label': 'Steps ','extend':'max',})\n",
    "\n",
    "#plt.axvline(x=np.where(dph.date.unique() == pd.to_datetime('2022-10-30'))[0][0],c='r')\n",
    "#plt.axvline(x=np.where(dph.date.unique() == pd.to_datetime('2022-03-27'))[0][0],c='r')\n",
    "for xv in np.where(dph.groupby('date').mean().day_of_week == 0)[0]:\n",
    "    plt.axvline(x=xv, c = 'grey')\n",
    "    \n",
    "#plt.axvline(x=np.where(dph.date.unique() == pd.to_datetime('2022-03-27'))[0][0],c='r')\n",
    "    #plt.legend([ r'Week'+'\\n'+'Start','DST'], bbox_to_anchor=(1, 1))\n",
    "plt.legend([  r'Week'+'\\n'+'Start'], bbox_to_anchor=(1, 1))   \n",
    "\n",
    "\n",
    "#plt.legend(['Time Change', r'Week'+'\\n'+'Start'], bbox_to_anchor=(1, 1))\n",
    "    \n",
    "#plt.legend(['DST', r'Week'+'\\n'+'Start'], bbox_to_anchor=(1, 1))\n",
    "plt.tight_layout()\n",
    "plt.xlabel('Days to test')\n",
    "plt.ylabel('Hour of day');"
   ]
  },
  {
   "cell_type": "code",
   "execution_count": null,
   "id": "46753e37-1595-4f9e-84ca-71fd790247d2",
   "metadata": {
    "tags": []
   },
   "outputs": [],
   "source": [
    "mask = (xhd >= 0) & (xhd <= 50)\n",
    "xhd[mask] = 0\n",
    "mask = (xhd > 50) & (xhd <= 250)\n",
    "xhd[mask] = 1\n",
    "mask = (xhd > 250) & (xhd <= 2000)\n",
    "xhd[mask] = 2\n",
    "mask = (xhd > 2000)  \n",
    "xhd[mask] = 3"
   ]
  },
  {
   "cell_type": "code",
   "execution_count": null,
   "id": "3a1e9b87-eeac-42fe-bed9-d27e2ab23225",
   "metadata": {
    "tags": []
   },
   "outputs": [],
   "source": [
    "from matplotlib.colors import ListedColormap"
   ]
  },
  {
   "cell_type": "code",
   "execution_count": null,
   "id": "23c65959-8af2-4bfb-a795-cb150b6f12fd",
   "metadata": {
    "tags": []
   },
   "outputs": [],
   "source": [
    "plt.figure(figsize=(30,7))\n",
    "cmap_dict = {0: 'grey', 1: 'blue', 2: 'purple', 3: 'red' }\n",
    "cmap = ListedColormap([cmap_dict[i] for i in range(len(cmap_dict))])\n",
    " \n",
    "\n",
    "ax = sns.heatmap(data=xhd, cmap=cmap, vmin=-0.5, vmax=3.5, yticklabels=True , xticklabels=pd.to_timedelta(dph.day_totest.unique() ).days)\n",
    "#plt.axvline(x=np.where(dph.date.unique() == pd.to_datetime('2022-10-30'))[0][0],c='r')\n",
    "#plt.axvline(x=np.where(dph.date.unique() == pd.to_datetime('2022-03-27'))[0][0],c='r')\n",
    "for xv in np.where(dph.groupby('date').mean().day_of_week == 0)[0]:\n",
    "    plt.axvline(x=xv, c = 'black')\n",
    "    \n",
    "    \n",
    "for spine in ax.collections[0].colorbar.ax.spines.values():\n",
    "    spine.set_visible(True) # show the border of the colorbar\n",
    "ax.collections[0].colorbar.set_ticklabels(['','0-50 Steps', '','51-250', '','251-2000','','>2000'])\n",
    "plt.tight_layout()\n",
    "#plt.legend(['DST', r'Week'+'\\n'+'Start'], bbox_to_anchor=(1, 1))\n",
    "plt.legend([  r'Week'+'\\n'+'Start'], bbox_to_anchor=(1, 1))\n",
    "plt.xlabel('Days to test')\n",
    "plt.ylabel('Hour of day');\n"
   ]
  },
  {
   "cell_type": "code",
   "execution_count": null,
   "id": "b23461ea-448a-47e2-ad5b-d358b0b3c0ac",
   "metadata": {},
   "outputs": [],
   "source": []
  },
  {
   "cell_type": "code",
   "execution_count": null,
   "id": "247a28cb-cc58-4941-a924-3244711db814",
   "metadata": {},
   "outputs": [],
   "source": []
  }
 ],
 "metadata": {
  "kernelspec": {
   "display_name": "Python (epoch_kl)",
   "language": "python",
   "name": "epoch_kl"
  },
  "language_info": {
   "codemirror_mode": {
    "name": "ipython",
    "version": 3
   },
   "file_extension": ".py",
   "mimetype": "text/x-python",
   "name": "python",
   "nbconvert_exporter": "python",
   "pygments_lexer": "ipython3",
   "version": "3.10.10"
  }
 },
 "nbformat": 4,
 "nbformat_minor": 5
}
