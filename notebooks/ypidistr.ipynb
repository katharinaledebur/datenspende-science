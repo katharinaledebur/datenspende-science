{
 "cells": [
  {
   "cell_type": "code",
   "execution_count": 1,
   "id": "5f96c92a-cacd-4a66-bd58-0110c3ed01e9",
   "metadata": {
    "tags": []
   },
   "outputs": [],
   "source": [
    "import numpy as np\n",
    "import pandas as pd \n",
    "import matplotlib.pyplot as plt\n",
    "from datenspende.utils import query_ch_df, query_pg_df\n",
    "import datetime\n",
    "from datetime import date\n",
    "import warnings\n",
    "warnings.simplefilter(action='ignore', category=FutureWarning)\n",
    "import re\n",
    "import os\n",
    "import glob\n",
    "from functools import reduce\n",
    "import seaborn as sns"
   ]
  },
  {
   "cell_type": "code",
   "execution_count": 2,
   "id": "c1c87cae-8fde-4922-b883-6fafa37eb8ef",
   "metadata": {
    "tags": []
   },
   "outputs": [],
   "source": [
    "ec_uid = np.load('extcoh(1).npy')"
   ]
  },
  {
   "cell_type": "code",
   "execution_count": 3,
   "id": "e822f546-50d5-4bf2-b14a-b48d9904c74a",
   "metadata": {
    "tags": []
   },
   "outputs": [],
   "source": [
    "path = os.getcwd()+'/user_epoch/'\n",
    "csv_files = glob.glob(os.path.join(path, \"*.csv\"))\n",
    "\n",
    "clean = []\n",
    "csex = []\n",
    "cage = []\n",
    "cdf = []\n",
    "for f in csv_files:\n",
    "\n",
    "    df = pd.read_csv(f, index_col = 0)\n",
    "    if int(f.split(\"/\")[-1].split('.')[1][1:]) in ec_uid and int(f.split(\"/\")[-1].split('.')[1][1:]) not in clean:\n",
    "        if len(df['phase'].unique()) >= 4 : #and 0 in df['phase'].unique() and 1 in df['phase'].unique()\n",
    "            if np.all([np.count_nonzero(df[df['phase']==ph]['hr'].notna()) > 100 for ph in df['phase'].unique()]):   \n",
    "                cdf.append(df)\n",
    "                demo_info = f.split(\"/\")[-1].split('.')[0]\n",
    "                csex.append(re.split('(\\d+)',demo_info)[0])\n",
    "                cage.append(int(re.split('(\\d+)',demo_info)[1]))\n",
    "                clean.append(int(f.split(\"/\")[-1].split('.')[1][1:])) \n",
    "\n",
    "path = os.getcwd()+'/u_fat/'\n",
    "csv_files = glob.glob(os.path.join(path, \"*.csv\"))\n",
    "for f in csv_files:\n",
    "\n",
    "    df = pd.read_csv(f, index_col = 0)\n",
    "    if int(f.split(\"/\")[-1].split('.')[1][1:]) in ec_uid and int(f.split(\"/\")[-1].split('.')[1][1:]) not in clean:\n",
    "        if len(df['phase'].unique()) >= 4 : #and 0 in df['phase'].unique() and 1 in df['phase'].unique()\n",
    "            if np.all([np.count_nonzero(df[df['phase']==ph]['hr'].notna()) > 100 for ph in df['phase'].unique()]):   \n",
    "                cdf.append(df)\n",
    "                demo_info = f.split(\"/\")[-1].split('.')[0]\n",
    "                csex.append(re.split('(\\d+)',demo_info)[0])\n",
    "                cage.append(int(re.split('(\\d+)',demo_info)[1]))\n",
    "                clean.append(int(f.split(\"/\")[-1].split('.')[1][1:])) \n",
    "                \n",
    "path = os.getcwd()+'/u_shb/'\n",
    "csv_files = glob.glob(os.path.join(path, \"*.csv\"))\n",
    "for f in csv_files:\n",
    "\n",
    "    df = pd.read_csv(f, index_col = 0)\n",
    "    if int(f.split(\"/\")[-1].split('.')[1][1:]) in ec_uid and int(f.split(\"/\")[-1].split('.')[1][1:]) not in clean:\n",
    "        if len(df['phase'].unique()) >= 4 : #and 0 in df['phase'].unique() and 1 in df['phase'].unique()\n",
    "            if np.all([np.count_nonzero(df[df['phase']==ph]['hr'].notna()) > 100 for ph in df['phase'].unique()]):   \n",
    "                cdf.append(df)\n",
    "                demo_info = f.split(\"/\")[-1].split('.')[0]\n",
    "                csex.append(re.split('(\\d+)',demo_info)[0])\n",
    "                cage.append(int(re.split('(\\d+)',demo_info)[1]))\n",
    "                clean.append(int(f.split(\"/\")[-1].split('.')[1][1:])) \n",
    "                \n",
    "path = os.getcwd()+'/extcoh/'\n",
    "csv_files = glob.glob(os.path.join(path, \"*.csv\"))\n",
    "for f in csv_files:\n",
    "\n",
    "    df = pd.read_csv(f, index_col = 0)\n",
    "    if int(f.split(\"/\")[-1].split('.')[1][1:]) in ec_uid and int(f.split(\"/\")[-1].split('.')[1][1:]) not in clean:\n",
    "        if len(df['phase'].unique()) >= 4 : #and 0 in df['phase'].unique() and 1 in df['phase'].unique()\n",
    "            if np.all([np.count_nonzero(df[df['phase']==ph]['hr'].notna()) > 100 for ph in df['phase'].unique()]):   \n",
    "                cdf.append(df)\n",
    "                demo_info = f.split(\"/\")[-1].split('.')[0]\n",
    "                csex.append(re.split('(\\d+)',demo_info)[0])\n",
    "                cage.append(int(re.split('(\\d+)',demo_info)[1]))\n",
    "                clean.append(int(f.split(\"/\")[-1].split('.')[1][1:])) "
   ]
  },
  {
   "cell_type": "code",
   "execution_count": 4,
   "id": "843151ce-8b5d-44f2-aeb6-8a3cf4e60f4a",
   "metadata": {
    "tags": []
   },
   "outputs": [],
   "source": [
    "path = os.getcwd()+'/match_c/'\n",
    "csv_files = glob.glob(os.path.join(path, \"*.csv\"))\n",
    "\n",
    "mclean = []\n",
    "mcsex = []\n",
    "mcage = []\n",
    "mcdf = []\n",
    "for f in csv_files:\n",
    "      \n",
    "    # read the csv file\n",
    "    df = pd.read_csv(f, index_col = 0)\n",
    "    if len(df['phase'].unique()) >= 4: #and 0 in df['phase'].unique() and 1 in df['phase'].unique():\n",
    "        if np.all([np.count_nonzero(df[df['phase']==ph]['hr'].notna()) > 100 for ph in df['phase'].unique()]):\n",
    "                \n",
    "                mcdf.append(df)\n",
    "                demo_info = f.split(\"/\")[-1].split('.')[0]\n",
    "                \n",
    "                mclean.append(int(f.split(\"/\")[-1].split('.')[1][1:]))  \n",
    "                mcsex.append(re.split('(\\d+)',demo_info)[0])\n",
    "                mcage.append(int(re.split('(\\d+)',demo_info)[1]))"
   ]
  },
  {
   "cell_type": "code",
   "execution_count": 5,
   "id": "ec9df030-c7be-40d0-931b-0ffadf651879",
   "metadata": {
    "tags": []
   },
   "outputs": [
    {
     "data": {
      "text/plain": [
       "509"
      ]
     },
     "execution_count": 5,
     "metadata": {},
     "output_type": "execute_result"
    }
   ],
   "source": [
    "len(mclean)"
   ]
  },
  {
   "cell_type": "code",
   "execution_count": 6,
   "id": "f0339c01-0714-414d-934a-bf283c795563",
   "metadata": {
    "tags": []
   },
   "outputs": [],
   "source": [
    "perss_user = pd.DataFrame(data =  np.array([clean, csex, cage]).T,columns = ['uid', 'sex', 'age'])\n",
    "match_user = pd.DataFrame(data =  np.array([mclean, mcsex, mcage]).T,columns = ['uid', 'sex', 'age'])\n",
    "#mu_idx = [np.where(np.array(muid) == i)[0][0] for i in [int(i) for i in match_user[(match_user.sex == 'male')&(match_user.age == '60')]['uid'].iloc[:5].values]]\n",
    "#pu_idx = np.where(np.array(uid) == int(perss_user[(perss_user.sex=='male')&(perss_user.age=='60')]['uid'].iloc[0]))[0][0]  \n",
    "perss_user['c'] = 1\n",
    "match_user['c'] = 1"
   ]
  },
  {
   "cell_type": "code",
   "execution_count": 7,
   "id": "aee44fb8-f945-4743-95ca-b4c84e905c0c",
   "metadata": {
    "tags": []
   },
   "outputs": [],
   "source": [
    "ypis_pers = []\n",
    "for pu in cdf:\n",
    "    df = pu.copy()\n",
    "    df = df.sort_values('date')\n",
    "    df.start = pd.to_datetime(df.start)\n",
    "    # take out days where there is no step entry at all \n",
    "    d_idx = df.groupby('date').sum()[df.groupby('date').sum()['steps'] == 0].index\n",
    "    df['clean'] = df['date'].apply(lambda x: 1 if x in d_idx else 0)\n",
    "    df = df[df['clean'] == 0]\n",
    "    df = df.drop('clean',axis=1)\n",
    "    #\n",
    "    d = df.copy()\n",
    "    d['steps'] = d['steps'].fillna(0)\n",
    "    d['steps'] = d['steps'] + 1\n",
    "\n",
    "    df_aggv = pd.merge(d[['start','hr','rhr', '% of MHR', 'sleep']].set_index('start').resample('60min').mean().reset_index(),d[['start','steps']].set_index('start').resample('60min').sum().reset_index(),how='outer',on='start')\n",
    "    d_agg = pd.merge(df_aggv, d[['start','date','day_of_week','weekend','dt','day_totest','week_totest', 'phase', 'source','id']].set_index('start').resample('60min').first().reset_index(),how='outer',on='start')\n",
    "\n",
    "    xhd = np.zeros((24, 7,4))\n",
    "    for ph in range(4):\n",
    "        dph = d_agg[d_agg['phase'] == ph]\n",
    "        if len(dph) > 0:\n",
    "            dpg = dph.groupby(by=[dph.day_of_week,dph.start.dt.time]).mean().reset_index()\n",
    "\n",
    "            for wd in range(7):\n",
    "                if len(dpg[dpg.day_of_week == wd]) == 24:\n",
    "                    xhd[:,wd, ph] = dpg[dpg.day_of_week == wd]['steps'].values\n",
    "\n",
    "    xhd[xhd == 0] = np.nan\n",
    " \n",
    "\n",
    "    norm = d_agg[d_agg['phase'] == 0]['steps'].mean()\n",
    "\n",
    "\n",
    "    w_pre = (xhd[:,:,0]/norm)/sum(sum(xhd[:,:,0]/norm))\n",
    "    ypis = np.zeros((4))\n",
    "    ypis[:] = np.nan\n",
    "    for i in range(4):\n",
    "        y_pi = np.nansum(w_pre * ((xhd[:,:,i]/norm) - (xhd[:,:,0]/norm) ))\n",
    "        ypis[i] = y_pi\n",
    "    ypis_pers.append(ypis)"
   ]
  },
  {
   "cell_type": "code",
   "execution_count": null,
   "id": "c85aaa04-be00-4336-a638-0af89a44a280",
   "metadata": {
    "tags": []
   },
   "outputs": [],
   "source": [
    "#bins = np.linspace(min(np.array(day_mean)[np.array(day_mean) != 0])-0.1, max(np.array(day_mean)[np.array(day_mean) != 0]), 20)"
   ]
  },
  {
   "cell_type": "code",
   "execution_count": 30,
   "id": "3515333b-6ceb-4688-bc83-0c9330facf93",
   "metadata": {
    "tags": []
   },
   "outputs": [],
   "source": [
    "mn = perss_user.groupby(['sex','age']).sum() * 3\n",
    "mn = mn.reset_index()\n",
    "ma = match_user.groupby(['sex','age']).sum().reset_index()"
   ]
  },
  {
   "cell_type": "code",
   "execution_count": 45,
   "id": "1212077e-35a0-4923-8914-0f9ec275ca7c",
   "metadata": {
    "tags": []
   },
   "outputs": [],
   "source": [
    "mnm = pd.merge(mn, ma, how = 'outer', on=['sex','age'] ).dropna()"
   ]
  },
  {
   "cell_type": "code",
   "execution_count": null,
   "id": "226a4559-7ba9-4678-89b5-7c2a21a093bb",
   "metadata": {},
   "outputs": [],
   "source": [
    "# now some users dont have matches ie female 25 or too little matches"
   ]
  },
  {
   "cell_type": "code",
   "execution_count": 48,
   "id": "f5e23bca-2f21-4463-ac66-777c682d3028",
   "metadata": {
    "tags": []
   },
   "outputs": [],
   "source": [
    "matched_idx = []\n",
    "for p in range(len(mnm)):\n",
    "    r = mnm.iloc[p]\n",
    "    if r.c_x <= r.c_y:\n",
    "        mid = np.random.choice(match_user[(match_user.sex == r.sex)&(match_user.age == r.age)].index,int(r.c_x) ,replace=False)\n",
    "    elif r.c_x > r.c_y:\n",
    "        mid = np.random.choice(match_user[(match_user.sex == r.sex)&(match_user.age == r.age)].index,int(r.c_y) ,replace=False)\n",
    "        \n",
    "    for i in mid:      \n",
    "        matched_idx.append(i)\n",
    "\n",
    "#matched_idx = list(set(matched_idx ))  "
   ]
  },
  {
   "cell_type": "code",
   "execution_count": 49,
   "id": "e50d68a0-4a1b-43e7-ab99-6eb6eb338124",
   "metadata": {
    "tags": []
   },
   "outputs": [
    {
     "data": {
      "text/plain": [
       "487"
      ]
     },
     "execution_count": 49,
     "metadata": {},
     "output_type": "execute_result"
    }
   ],
   "source": [
    "len(matched_idx)"
   ]
  },
  {
   "cell_type": "code",
   "execution_count": 51,
   "id": "0ea1e7d2-2f88-4811-aee6-a0e25f528c6c",
   "metadata": {
    "tags": []
   },
   "outputs": [],
   "source": [
    "# matched_idx = []\n",
    "# for p in range(len(perss_user)):\n",
    "#     r = perss_user.iloc[p]\n",
    "#     try:\n",
    "#         mid = np.random.choice(match_user[(match_user.sex == r.sex)&(match_user.age == r.age)].index,5,replace=False)\n",
    "#         #match_user[(match_user.sex == r.sex)&(match_user.age == r.age)].index[:3]\n",
    "#         for i in mid:\n",
    "             \n",
    "#             matched_idx.append(i)\n",
    "#     except: \n",
    "#         continue\n",
    "# matched_idx = list(set(matched_idx ))  "
   ]
  },
  {
   "cell_type": "code",
   "execution_count": 52,
   "id": "c515b92a-0072-4ee3-bc70-0153da88173a",
   "metadata": {
    "tags": []
   },
   "outputs": [],
   "source": [
    "\n",
    "\n",
    "ypis_pers_c = []\n",
    "for pu in matched_idx:\n",
    "    \n",
    "    df = mcdf[pu].copy()\n",
    "    df = df.sort_values('date')\n",
    "    df.start = pd.to_datetime(df.start)\n",
    "    # take out days where there is no step entry at all \n",
    "    d_idx = df.groupby('date').sum()[df.groupby('date').sum()['steps'] == 0].index\n",
    "    df['clean'] = df['date'].apply(lambda x: 1 if x in d_idx else 0)\n",
    "    df = df[df['clean'] == 0]\n",
    "    df = df.drop('clean',axis=1)\n",
    "    #\n",
    "    d = df.copy()\n",
    "    d['steps'] = d['steps'].fillna(0)\n",
    "    d['steps'] = d['steps'] + 1\n",
    "\n",
    "    df_aggv = pd.merge(d[['start','hr','rhr', '% of MHR', 'sleep']].set_index('start').resample('60min').mean().reset_index(),d[['start','steps']].set_index('start').resample('60min').sum().reset_index(),how='outer',on='start')\n",
    "    d_agg = pd.merge(df_aggv, d[['start','date','day_of_week','weekend','dt','day_totest','week_totest', 'phase', 'source','id']].set_index('start').resample('60min').first().reset_index(),how='outer',on='start')\n",
    "\n",
    "    xhd = np.zeros((24, 7,4))\n",
    "    for ph in range(4):\n",
    "        dph = d_agg[d_agg['phase'] == ph]\n",
    "        if len(dph) > 0:\n",
    "            dpg = dph.groupby(by=[dph.day_of_week,dph.start.dt.time]).mean().reset_index()\n",
    "\n",
    "            for wd in range(7):\n",
    "                if len(dpg[dpg.day_of_week == wd]) == 24:\n",
    "                    xhd[:,wd, ph] = dpg[dpg.day_of_week == wd]['steps'].values\n",
    "\n",
    "    xhd[xhd == 0] = np.nan\n",
    " \n",
    "\n",
    "    norm = d_agg[d_agg['phase'] == 0]['steps'].mean()\n",
    "\n",
    "\n",
    "    w_pre = (xhd[:,:,0]/norm)/sum(sum(xhd[:,:,0]/norm))\n",
    "    ypis = np.zeros((4))\n",
    "    ypis[:] = np.nan\n",
    "    for i in range(4):\n",
    "        y_pi = np.nansum(w_pre * ((xhd[:,:,i]/norm) - (xhd[:,:,0]/norm) ))\n",
    "        ypis[i] = y_pi\n",
    "    ypis_pers_c.append(ypis)\n",
    "    "
   ]
  },
  {
   "cell_type": "code",
   "execution_count": 53,
   "id": "a69d29b0-c8f0-4c78-a764-026329d55528",
   "metadata": {
    "tags": []
   },
   "outputs": [],
   "source": [
    "mini = np.min([np.min(ypis_pers_c),np.min(ypis_pers)])\n",
    "maxi = np.max([np.max(ypis_pers_c),np.max(ypis_pers)])"
   ]
  },
  {
   "cell_type": "code",
   "execution_count": 54,
   "id": "0268b9fb-7943-401a-9d71-4c902a399080",
   "metadata": {
    "tags": []
   },
   "outputs": [],
   "source": [
    "bins = np.linspace(mini-0.1, maxi, 20)"
   ]
  },
  {
   "cell_type": "code",
   "execution_count": 55,
   "id": "f51b0cc9-a051-4931-89ec-c91aa6140ff0",
   "metadata": {
    "tags": []
   },
   "outputs": [],
   "source": [
    "phases = ['pre', 'acute', 'sub-acute', 'post']"
   ]
  },
  {
   "cell_type": "code",
   "execution_count": 56,
   "id": "cbd52f33-c30e-472b-9234-5115cf6288a7",
   "metadata": {
    "tags": []
   },
   "outputs": [
    {
     "data": {
      "image/png": "[encoded data removed]",
      "text/plain": [
       "<Figure size 1000x600 with 4 Axes>"
      ]
     },
     "metadata": {},
     "output_type": "display_data"
    }
   ],
   "source": [
    "fig,ax=plt.subplots(1,4,figsize=(10,6),sharex=True, sharey=True)\n",
    "for ph in range(4):\n",
    "    n_dbt, _ = np.histogram([i[ph] for i in ypis_pers], bins=bins ) \n",
    "    ax[ph].stairs(n_dbt/len([i[ph] for i in ypis_pers]), bins, fill=False) \n",
    "    n_dbt, _= np.histogram([i[ph] for i in ypis_pers_c] ,bins=bins) \n",
    "    ax[ph].stairs(n_dbt/len([i[ph] for i in ypis_pers_c]), bins, fill=False) \n",
    "    ax[ph].set_title(phases[ph])\n",
    "    ax[3].legend(['pers','match'] )\n",
    "    ax[ph].set_xlabel('sum(y_p)');\n",
    "    ax[ph].set_ylabel('relative frequency');\n"
   ]
  },
  {
   "cell_type": "code",
   "execution_count": 57,
   "id": "9d9beae0-7bdd-46ef-9775-d61746b4ed3a",
   "metadata": {
    "tags": []
   },
   "outputs": [],
   "source": [
    "y_sum = [sum(y) for y in ypis_pers]\n",
    "yc_sum = [sum(y) for y in ypis_pers_c]"
   ]
  },
  {
   "cell_type": "code",
   "execution_count": 58,
   "id": "faa12575-f95a-4315-8bad-37026ddb5b1b",
   "metadata": {},
   "outputs": [
    {
     "data": {
      "text/plain": [
       "Ttest_indResult(statistic=0.2721548687993342, pvalue=0.7856267618831146)"
      ]
     },
     "execution_count": 58,
     "metadata": {},
     "output_type": "execute_result"
    }
   ],
   "source": [
    "from scipy.stats import ttest_ind\n",
    "ttest_ind(y_sum, yc_sum, equal_var=False)"
   ]
  },
  {
   "cell_type": "code",
   "execution_count": 59,
   "id": "db4cd5d8-170f-4186-bdc4-218129916266",
   "metadata": {
    "tags": []
   },
   "outputs": [
    {
     "data": {
      "text/plain": [
       "Ttest_indResult(statistic=0.0679876684334117, pvalue=0.9458264207601261)"
      ]
     },
     "execution_count": 59,
     "metadata": {},
     "output_type": "execute_result"
    }
   ],
   "source": [
    "ttest_ind([i[1] for i in ypis_pers], [i[1] for i in ypis_pers_c], equal_var=False)"
   ]
  },
  {
   "cell_type": "markdown",
   "id": "fe86ec87-1237-4b41-807e-5f6727fbe017",
   "metadata": {},
   "source": [
    "## HR\n"
   ]
  },
  {
   "cell_type": "code",
   "execution_count": 60,
   "id": "ca2b9f5e-4925-49bf-bd9d-741106c4d2bb",
   "metadata": {
    "tags": []
   },
   "outputs": [],
   "source": [
    "ypis_pers = []\n",
    "for pu in cdf:\n",
    "    df = pu.copy()\n",
    "    df = df.sort_values('date')\n",
    "    df.start = pd.to_datetime(df.start)\n",
    "    # take out days where there is no step entry at all \n",
    "    d_idx = df.groupby('date').sum()[df.groupby('date').sum()['steps'] == 0].index\n",
    "    df['clean'] = df['date'].apply(lambda x: 1 if x in d_idx else 0)\n",
    "    df = df[df['clean'] == 0]\n",
    "    df = df.drop('clean',axis=1)\n",
    "    #\n",
    "    d = df.copy()\n",
    "    d['steps'] = d['steps'].fillna(0)\n",
    "    d['steps'] = d['steps'] + 1\n",
    "\n",
    "    df_aggv = pd.merge(d[['start','hr','rhr', '% of MHR', 'sleep']].set_index('start').resample('60min').mean().reset_index(),d[['start','steps']].set_index('start').resample('60min').sum().reset_index(),how='outer',on='start')\n",
    "    d_agg = pd.merge(df_aggv, d[['start','date','day_of_week','weekend','dt','day_totest','week_totest', 'phase', 'source','id']].set_index('start').resample('60min').first().reset_index(),how='outer',on='start')\n",
    "\n",
    "    xhd = np.zeros((24, 7,4))\n",
    "    for ph in range(4):\n",
    "        dph = d_agg[d_agg['phase'] == ph]\n",
    "        if len(dph) > 0:\n",
    "            dpg = dph.groupby(by=[dph.day_of_week,dph.start.dt.time]).mean().reset_index()\n",
    "\n",
    "            for wd in range(7):\n",
    "                if len(dpg[dpg.day_of_week == wd]) == 24:\n",
    "                    xhd[:,wd, ph] = dpg[dpg.day_of_week == wd]['hr'].values\n",
    "\n",
    "    xhd[xhd == 0] = np.nan\n",
    " \n",
    "\n",
    "    norm = d_agg[d_agg['phase'] == 0]['hr'].mean()\n",
    "\n",
    "\n",
    "    w_pre = (xhd[:,:,0]/norm)/sum(sum(xhd[:,:,0]/norm))\n",
    "    ypis = np.zeros((4))\n",
    "    ypis[:] = np.nan\n",
    "    for i in range(4):\n",
    "        y_pi = np.nansum(w_pre * ((xhd[:,:,i]/norm) - (xhd[:,:,0]/norm) ))\n",
    "        ypis[i] = y_pi\n",
    "    ypis_pers.append(ypis)"
   ]
  },
  {
   "cell_type": "code",
   "execution_count": 61,
   "id": "4d74cc55-a775-45f1-8861-e21316be576b",
   "metadata": {
    "tags": []
   },
   "outputs": [],
   "source": [
    "#bins = np.linspace(min(np.array(day_mean)[np.array(day_mean) != 0])-0.1, max(np.array(day_mean)[np.array(day_mean) != 0]), 20)"
   ]
  },
  {
   "cell_type": "code",
   "execution_count": 62,
   "id": "3ef10567-b0a7-4f19-ba89-43015abc6925",
   "metadata": {
    "tags": []
   },
   "outputs": [],
   "source": [
    "# matched_idx = []\n",
    "# for p in range(len(perss_user)):\n",
    "#     r = perss_user.iloc[p]\n",
    "#     #mid = np.random.choice(match_user[(match_user.sex == r.sex)&(match_user.age == r.age)].index,3,replace=False)\n",
    "#     try:\n",
    "#         mid = np.random.choice(match_user[(match_user.sex == r.sex)&(match_user.age == r.age)].index,3,replace=False)\n",
    "#         #match_user[(match_user.sex == r.sex)&(match_user.age == r.age)].index[:3]\n",
    "#         for i in mid:\n",
    "#             matched_idx.append(i)\n",
    "#     except: \n",
    "#         continue\n",
    "#     #match_user[(match_user.sex == r.sex)&(match_user.age == r.age)].index[:3]\n",
    "#     #for i in mid:\n",
    "#     #    matched_idx.append(i)\n",
    "# matched_idx = list(set(matched_idx ))  \n",
    "\n",
    "ypis_pers_c = []\n",
    "for pu in matched_idx:\n",
    "    \n",
    "    df = mcdf[pu].copy()\n",
    "    df = df.sort_values('date')\n",
    "    df.start = pd.to_datetime(df.start)\n",
    "    # take out days where there is no step entry at all \n",
    "    d_idx = df.groupby('date').sum()[df.groupby('date').sum()['steps'] == 0].index\n",
    "    df['clean'] = df['date'].apply(lambda x: 1 if x in d_idx else 0)\n",
    "    df = df[df['clean'] == 0]\n",
    "    df = df.drop('clean',axis=1)\n",
    "    #\n",
    "    d = df.copy()\n",
    "    d['steps'] = d['steps'].fillna(0)\n",
    "    d['steps'] = d['steps'] + 1\n",
    "\n",
    "    df_aggv = pd.merge(d[['start','hr','rhr', '% of MHR', 'sleep']].set_index('start').resample('60min').mean().reset_index(),d[['start','steps']].set_index('start').resample('60min').sum().reset_index(),how='outer',on='start')\n",
    "    d_agg = pd.merge(df_aggv, d[['start','date','day_of_week','weekend','dt','day_totest','week_totest', 'phase', 'source','id']].set_index('start').resample('60min').first().reset_index(),how='outer',on='start')\n",
    "\n",
    "    xhd = np.zeros((24, 7,4))\n",
    "    for ph in range(4):\n",
    "        dph = d_agg[d_agg['phase'] == ph]\n",
    "        if len(dph) > 0:\n",
    "            dpg = dph.groupby(by=[dph.day_of_week,dph.start.dt.time]).mean().reset_index()\n",
    "\n",
    "            for wd in range(7):\n",
    "                if len(dpg[dpg.day_of_week == wd]) == 24:\n",
    "                    xhd[:,wd, ph] = dpg[dpg.day_of_week == wd]['hr'].values\n",
    "\n",
    "    xhd[xhd == 0] = np.nan\n",
    " \n",
    "\n",
    "    norm = d_agg[d_agg['phase'] == 0]['hr'].mean()\n",
    "\n",
    "\n",
    "    w_pre = (xhd[:,:,0]/norm)/sum(sum(xhd[:,:,0]/norm))\n",
    "    ypis = np.zeros((4))\n",
    "    ypis[:] = np.nan\n",
    "    for i in range(4):\n",
    "        y_pi = np.nansum(w_pre * ((xhd[:,:,i]/norm) - (xhd[:,:,0]/norm) ))\n",
    "        ypis[i] = y_pi\n",
    "    ypis_pers_c.append(ypis)\n",
    "    "
   ]
  },
  {
   "cell_type": "code",
   "execution_count": 63,
   "id": "8bf91cc6-243e-42d3-9f97-b5f92bdd5aff",
   "metadata": {
    "tags": []
   },
   "outputs": [],
   "source": [
    "mini = np.min([np.min(ypis_pers_c),np.min(ypis_pers)])\n",
    "maxi = np.max([np.max(ypis_pers_c),np.max(ypis_pers)])"
   ]
  },
  {
   "cell_type": "code",
   "execution_count": 64,
   "id": "5604dd77-5b75-415d-b93c-1b010b1679b6",
   "metadata": {
    "tags": []
   },
   "outputs": [],
   "source": [
    "bins = np.linspace(mini-0.1, maxi, 20)"
   ]
  },
  {
   "cell_type": "code",
   "execution_count": 65,
   "id": "2461b5a4-7362-48c4-b2d3-8d670ac60981",
   "metadata": {
    "tags": []
   },
   "outputs": [],
   "source": [
    "phases = ['pre', 'acute', 'sub-acute', 'post']"
   ]
  },
  {
   "cell_type": "code",
   "execution_count": 66,
   "id": "0f7e8ffa-2e77-4140-9987-cff412f45e0d",
   "metadata": {
    "tags": []
   },
   "outputs": [
    {
     "data": {
      "image/png": "[encoded data removed]",
      "text/plain": [
       "<Figure size 1000x600 with 4 Axes>"
      ]
     },
     "metadata": {},
     "output_type": "display_data"
    }
   ],
   "source": [
    "fig,ax=plt.subplots(1,4,figsize=(10,6),sharex=True, sharey=True)\n",
    "for ph in range(4):\n",
    "    n_dbt, _ = np.histogram([i[ph] for i in ypis_pers], bins=bins ) \n",
    "    ax[ph].stairs(n_dbt/len([i[ph] for i in ypis_pers]), bins, fill=False) \n",
    "    n_dbt, _= np.histogram([i[ph] for i in ypis_pers_c] ,bins=bins) \n",
    "    ax[ph].stairs(n_dbt/len([i[ph] for i in ypis_pers_c]), bins, fill=False) \n",
    "    ax[ph].set_title(phases[ph])\n",
    "    ax[3].legend(['pers','match'] )\n",
    "    ax[ph].set_xlabel('sum(y_p)');\n",
    "    ax[ph].set_ylabel('relative frequency');\n"
   ]
  },
  {
   "cell_type": "code",
   "execution_count": 67,
   "id": "6cf183e3-7862-4c5d-987e-0ba51b8fa3ec",
   "metadata": {
    "tags": []
   },
   "outputs": [],
   "source": [
    "y_sum = [sum(y) for y in ypis_pers]\n",
    "yc_sum = [sum(y) for y in ypis_pers_c]"
   ]
  },
  {
   "cell_type": "code",
   "execution_count": 68,
   "id": "01d921e3-a5e0-4706-a7dc-dab6c87fedae",
   "metadata": {},
   "outputs": [
    {
     "data": {
      "text/plain": [
       "Ttest_indResult(statistic=1.2689643505004724, pvalue=0.20517683431020511)"
      ]
     },
     "execution_count": 68,
     "metadata": {},
     "output_type": "execute_result"
    }
   ],
   "source": [
    "from scipy.stats import ttest_ind\n",
    "ttest_ind(y_sum, yc_sum, equal_var=False)"
   ]
  },
  {
   "cell_type": "code",
   "execution_count": 69,
   "id": "c0d7b01e-d79f-47d8-a7bf-d55bee42134c",
   "metadata": {
    "tags": []
   },
   "outputs": [
    {
     "data": {
      "text/plain": [
       "Ttest_indResult(statistic=-1.0831500930077824, pvalue=0.27937421658642053)"
      ]
     },
     "execution_count": 69,
     "metadata": {},
     "output_type": "execute_result"
    }
   ],
   "source": [
    "ttest_ind([i[1] for i in ypis_pers], [i[1] for i in ypis_pers_c], equal_var=False)"
   ]
  },
  {
   "cell_type": "code",
   "execution_count": null,
   "id": "b913e788-d449-4995-a112-17af6c6fe545",
   "metadata": {},
   "outputs": [],
   "source": []
  }
 ],
 "metadata": {
  "kernelspec": {
   "display_name": "Python (epoch_kl)",
   "language": "python",
   "name": "epoch_kl"
  },
  "language_info": {
   "codemirror_mode": {
    "name": "ipython",
    "version": 3
   },
   "file_extension": ".py",
   "mimetype": "text/x-python",
   "name": "python",
   "nbconvert_exporter": "python",
   "pygments_lexer": "ipython3",
   "version": "3.10.10"
  }
 },
 "nbformat": 4,
 "nbformat_minor": 5
}
