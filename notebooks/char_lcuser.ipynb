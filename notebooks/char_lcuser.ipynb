{
 "cells": [
  {
   "cell_type": "code",
   "execution_count": 1,
   "id": "9fecb0dd-6b83-4c9e-921c-6f720a54fb10",
   "metadata": {},
   "outputs": [],
   "source": [
    "import numpy as np\n",
    "import pandas as pd \n",
    "import matplotlib.pyplot as plt\n",
    "from datenspende.utils import query_ch_df, query_pg_df\n",
    "import datetime\n",
    "from datetime import date\n",
    "import warnings\n",
    "warnings.simplefilter(action='ignore', category=FutureWarning)"
   ]
  },
  {
   "cell_type": "code",
   "execution_count": 2,
   "id": "b65a8c3b-4f0e-423a-a262-5f791586f274",
   "metadata": {},
   "outputs": [],
   "source": [
    "lc_u = np.load('uid_per_shb_fatigue(1).npy')"
   ]
  },
  {
   "cell_type": "code",
   "execution_count": 11,
   "id": "cd271d6a-691d-4dd1-b1a5-6ff760620f66",
   "metadata": {
    "tags": []
   },
   "outputs": [
    {
     "data": {
      "text/plain": [
       "134"
      ]
     },
     "execution_count": 11,
     "metadata": {},
     "output_type": "execute_result"
    }
   ],
   "source": [
    "len(lc_u)"
   ]
  },
  {
   "cell_type": "code",
   "execution_count": 3,
   "id": "a97a5252-b1fe-4b58-bbc3-f58606b86c5c",
   "metadata": {},
   "outputs": [],
   "source": [
    "# get age\n",
    "def get_demo(user_ids):\n",
    "    \n",
    "    if isinstance(user_ids, int) or isinstance(user_ids, np.int64):\n",
    "        formatter = f'({user_ids})'\n",
    "    elif len(user_ids) == 1:\n",
    "        formatter = f'({user_ids[0]})'\n",
    "    else:\n",
    "        formatter = tuple(user_ids) \n",
    "    \n",
    "    \n",
    "    \n",
    "    query = f\"\"\"\n",
    "    SELECT \n",
    "        user_id, salutation, birth_date, weight, height, creation_timestamp\n",
    "    FROM \n",
    "        rocs.datenspende.users\n",
    "    WHERE \n",
    "        users.user_id IN {formatter} \n",
    "   \n",
    "    \"\"\" \n",
    "\n",
    "    users = query_pg_df(query)\n",
    "    users.creation_timestamp = pd.to_datetime(users['creation_timestamp'],unit='ms') \n",
    "    users.creation_timestamp = users.creation_timestamp.dt.date\n",
    "    users['age'] = np.floor((2023 + 1 / 12) - users['birth_date'] + 2.5)\n",
    "\n",
    "    \n",
    "    \n",
    "    return users"
   ]
  },
  {
   "cell_type": "code",
   "execution_count": 4,
   "id": "6a57753e-88a1-492e-82fb-b12d26935208",
   "metadata": {},
   "outputs": [],
   "source": [
    "# get sex\n",
    "def get_info(user_ids):\n",
    "    \n",
    "    # Make sure that the IN-condition for the SQL query either takes the form '(userid)' in the case\n",
    "    # of a single requested user id or '(userid1, userid2, ..., useridN)' in the case of multiple\n",
    "    # requested user ids\n",
    "    if isinstance(user_ids, int) or isinstance(user_ids, np.int64):\n",
    "        formatter = f'({user_ids})'\n",
    "    elif len(user_ids) == 1:\n",
    "        formatter = f'({user_ids[0]})'\n",
    "    else:\n",
    "        formatter = tuple(user_ids)\n",
    "    \n",
    "    \n",
    "    \n",
    "    qu = f\"\"\"\n",
    "    select\n",
    "        \n",
    "        a.user_id,\n",
    "        a.created_at,\n",
    "        a.question,\n",
    "        a.element\n",
    "        \n",
    "    from \n",
    "        rocs.datenspende.answers a\n",
    "    where \n",
    "        a.user_id IN {formatter}\n",
    "    AND\n",
    "        a.question = 127\n",
    "        \n",
    "\n",
    "    \"\"\"\n",
    "\n",
    "    users = query_pg_df(qu)\n",
    "    users.created_at = pd.to_datetime(users['created_at'],unit='ms')\n",
    "    users.created_at = users.created_at.dt.date\n",
    "    \n",
    "    \n",
    "    return users"
   ]
  },
  {
   "cell_type": "code",
   "execution_count": 5,
   "id": "ed978a1f-783d-44ca-9ab6-4c09bd5f7ac5",
   "metadata": {},
   "outputs": [],
   "source": [
    "def get_vacc(user_ids):\n",
    "    \n",
    "    # Make sure that the IN-condition for the SQL query either takes the form '(userid)' in the case\n",
    "    # of a single requested user id or '(userid1, userid2, ..., useridN)' in the case of multiple\n",
    "    # requested user ids\n",
    "    if isinstance(user_ids, int) or isinstance(user_ids, np.int64):\n",
    "        formatter = f'({user_ids})'\n",
    "    elif len(user_ids) == 1:\n",
    "        formatter = f'({user_ids[0]})'\n",
    "    else:\n",
    "        formatter = tuple(user_ids)\n",
    "    \n",
    "    \n",
    "    \n",
    "    qu = f\"\"\"\n",
    "    select\n",
    "        \n",
    "        a.user_id,\n",
    "        a.created_at,\n",
    "        a.question,\n",
    "        a.element\n",
    "        \n",
    "    from \n",
    "        rocs.datenspende.answers a\n",
    "    where \n",
    "        a.user_id IN {formatter}\n",
    "    AND\n",
    "        a.question = 121\n",
    "        \n",
    "\n",
    "    \"\"\"\n",
    "\n",
    "    users = query_pg_df(qu)\n",
    "    users.created_at = pd.to_datetime(users['created_at'],unit='ms')\n",
    "    users.created_at = users.created_at.dt.date\n",
    "    \n",
    "    \n",
    "    return users"
   ]
  },
  {
   "cell_type": "code",
   "execution_count": 6,
   "id": "03fb2cc4-0837-4543-8b7a-2bee759b0c29",
   "metadata": {},
   "outputs": [],
   "source": [
    "# get sex\n",
    "def get_info(user_ids):\n",
    "    \n",
    "    # Make sure that the IN-condition for the SQL query either takes the form '(userid)' in the case\n",
    "    # of a single requested user id or '(userid1, userid2, ..., useridN)' in the case of multiple\n",
    "    # requested user ids\n",
    "    if isinstance(user_ids, int) or isinstance(user_ids, np.int64):\n",
    "        formatter = f'({user_ids})'\n",
    "    elif len(user_ids) == 1:\n",
    "        formatter = f'({user_ids[0]})'\n",
    "    else:\n",
    "        formatter = tuple(user_ids)\n",
    "    \n",
    "    \n",
    "    \n",
    "    qu = f\"\"\"\n",
    "    select\n",
    "        \n",
    "        a.user_id,\n",
    "        a.created_at,\n",
    "        a.question,\n",
    "        a.element\n",
    "        \n",
    "    from \n",
    "        rocs.datenspende.answers a\n",
    "    where \n",
    "        a.user_id IN {formatter}\n",
    "    AND\n",
    "        a.question = 127\n",
    "        \n",
    "\n",
    "    \"\"\"\n",
    "\n",
    "    users = query_pg_df(qu)\n",
    "    users.created_at = pd.to_datetime(users['created_at'],unit='ms')\n",
    "    users.created_at = users.created_at.dt.date\n",
    "    \n",
    "    \n",
    "    return users"
   ]
  },
  {
   "cell_type": "code",
   "execution_count": 7,
   "id": "a1223c1c-f8bd-4d4b-8d6d-c949d2b9fdbe",
   "metadata": {},
   "outputs": [],
   "source": [
    "def get_vitals(user_ids):\n",
    "    \n",
    "    # Make sure that the IN-condition for the SQL query either takes the form '(userid)' in the case\n",
    "    # of a single requested user id or '(userid1, userid2, ..., useridN)' in the case of multiple\n",
    "    # requested user ids\n",
    "    if isinstance(user_ids, int) or isinstance(user_ids, np.int64):\n",
    "        formatter = f'({user_ids})'\n",
    "    elif len(user_ids) == 1:\n",
    "        formatter = f'({user_ids[0]})'\n",
    "    else:\n",
    "        formatter = tuple(user_ids)\n",
    "    \n",
    "    \n",
    "    \n",
    "    query = f\"\"\"\n",
    "    SELECT DISTINCT\n",
    "        user_id AS userid, source AS deviceid\n",
    "    FROM \n",
    "        datenspende.vitaldata\n",
    "    WHERE \n",
    "        vitaldata.user_id IN {formatter}\n",
    "    AND\n",
    "        vitaldata.type IN (9, 65, 43)\n",
    "    \"\"\"\n",
    "\n",
    "    vitals = query_pg_df(query)\n",
    "    \n",
    "\n",
    "    \n",
    "    \n",
    "    return vitals"
   ]
  },
  {
   "cell_type": "code",
   "execution_count": 34,
   "id": "8d0bf553-6d7b-40ca-bd74-6cc4ccf196d1",
   "metadata": {
    "tags": []
   },
   "outputs": [],
   "source": [
    "qu = \"\"\" select\n",
    "    element,\n",
    "    question,\n",
    "    choice_id,\n",
    "    text\n",
    "from rocs.datenspende.choice\n",
    "    \n",
    "\n",
    "where question = 121\"\"\""
   ]
  },
  {
   "cell_type": "code",
   "execution_count": 35,
   "id": "02b613a8-3626-496e-8478-d9849f610c7b",
   "metadata": {
    "tags": []
   },
   "outputs": [
    {
     "name": "stderr",
     "output_type": "stream",
     "text": [
      "/home/jovyan/datenspende-science/datenspende/utils/load_from_postgres.py:45: UserWarning: pandas only supports SQLAlchemy connectable (engine/connection) or database string URI or sqlite3 DBAPI2 connection. Other DBAPI2 objects are not tested. Please consider using SQLAlchemy.\n",
      "  return pd.read_sql(query, conn)\n"
     ]
    },
    {
     "data": {
      "text/html": [
       "<div>\n",
       "<style scoped>\n",
       "    .dataframe tbody tr th:only-of-type {\n",
       "        vertical-align: middle;\n",
       "    }\n",
       "\n",
       "    .dataframe tbody tr th {\n",
       "        vertical-align: top;\n",
       "    }\n",
       "\n",
       "    .dataframe thead th {\n",
       "        text-align: right;\n",
       "    }\n",
       "</style>\n",
       "<table border=\"1\" class=\"dataframe\">\n",
       "  <thead>\n",
       "    <tr style=\"text-align: right;\">\n",
       "      <th></th>\n",
       "      <th>element</th>\n",
       "      <th>question</th>\n",
       "      <th>choice_id</th>\n",
       "      <th>text</th>\n",
       "    </tr>\n",
       "  </thead>\n",
       "  <tbody>\n",
       "    <tr>\n",
       "      <th>0</th>\n",
       "      <td>728</td>\n",
       "      <td>121</td>\n",
       "      <td>1</td>\n",
       "      <td>Ja</td>\n",
       "    </tr>\n",
       "    <tr>\n",
       "      <th>1</th>\n",
       "      <td>729</td>\n",
       "      <td>121</td>\n",
       "      <td>2</td>\n",
       "      <td>Nein, nur teilweise geimpft</td>\n",
       "    </tr>\n",
       "    <tr>\n",
       "      <th>2</th>\n",
       "      <td>730</td>\n",
       "      <td>121</td>\n",
       "      <td>3</td>\n",
       "      <td>Nein, überhaupt nicht geimpft</td>\n",
       "    </tr>\n",
       "  </tbody>\n",
       "</table>\n",
       "</div>"
      ],
      "text/plain": [
       "   element  question  choice_id                           text\n",
       "0      728       121          1                             Ja\n",
       "1      729       121          2    Nein, nur teilweise geimpft\n",
       "2      730       121          3  Nein, überhaupt nicht geimpft"
      ]
     },
     "execution_count": 35,
     "metadata": {},
     "output_type": "execute_result"
    }
   ],
   "source": [
    "query_pg_df(qu) "
   ]
  },
  {
   "cell_type": "code",
   "execution_count": 8,
   "id": "97856bca-f241-43c4-90f6-2a05a856f9bd",
   "metadata": {},
   "outputs": [
    {
     "name": "stderr",
     "output_type": "stream",
     "text": [
      "/home/jovyan/datenspende-science/datenspende/utils/load_from_postgres.py:45: UserWarning: pandas only supports SQLAlchemy connectable (engine/connection) or database string URI or sqlite3 DBAPI2 connection. Other DBAPI2 objects are not tested. Please consider using SQLAlchemy.\n",
      "  return pd.read_sql(query, conn)\n"
     ]
    },
    {
     "data": {
      "text/html": [
       "<div>\n",
       "<style scoped>\n",
       "    .dataframe tbody tr th:only-of-type {\n",
       "        vertical-align: middle;\n",
       "    }\n",
       "\n",
       "    .dataframe tbody tr th {\n",
       "        vertical-align: top;\n",
       "    }\n",
       "\n",
       "    .dataframe thead th {\n",
       "        text-align: right;\n",
       "    }\n",
       "</style>\n",
       "<table border=\"1\" class=\"dataframe\">\n",
       "  <thead>\n",
       "    <tr style=\"text-align: right;\">\n",
       "      <th></th>\n",
       "      <th>userid</th>\n",
       "      <th>c</th>\n",
       "    </tr>\n",
       "    <tr>\n",
       "      <th>deviceid</th>\n",
       "      <th></th>\n",
       "      <th></th>\n",
       "    </tr>\n",
       "  </thead>\n",
       "  <tbody>\n",
       "    <tr>\n",
       "      <th>2</th>\n",
       "      <td>20956994</td>\n",
       "      <td>27</td>\n",
       "    </tr>\n",
       "    <tr>\n",
       "      <th>3</th>\n",
       "      <td>21959025</td>\n",
       "      <td>28</td>\n",
       "    </tr>\n",
       "    <tr>\n",
       "      <th>4</th>\n",
       "      <td>4444136</td>\n",
       "      <td>5</td>\n",
       "    </tr>\n",
       "    <tr>\n",
       "      <th>6</th>\n",
       "      <td>38681521</td>\n",
       "      <td>49</td>\n",
       "    </tr>\n",
       "    <tr>\n",
       "      <th>7</th>\n",
       "      <td>20867436</td>\n",
       "      <td>19</td>\n",
       "    </tr>\n",
       "    <tr>\n",
       "      <th>9</th>\n",
       "      <td>6606189</td>\n",
       "      <td>6</td>\n",
       "    </tr>\n",
       "    <tr>\n",
       "      <th>13</th>\n",
       "      <td>18796803</td>\n",
       "      <td>21</td>\n",
       "    </tr>\n",
       "    <tr>\n",
       "      <th>46</th>\n",
       "      <td>9194260</td>\n",
       "      <td>8</td>\n",
       "    </tr>\n",
       "    <tr>\n",
       "      <th>48</th>\n",
       "      <td>2658275</td>\n",
       "      <td>3</td>\n",
       "    </tr>\n",
       "  </tbody>\n",
       "</table>\n",
       "</div>"
      ],
      "text/plain": [
       "            userid   c\n",
       "deviceid              \n",
       "2         20956994  27\n",
       "3         21959025  28\n",
       "4          4444136   5\n",
       "6         38681521  49\n",
       "7         20867436  19\n",
       "9          6606189   6\n",
       "13        18796803  21\n",
       "46         9194260   8\n",
       "48         2658275   3"
      ]
     },
     "execution_count": 8,
     "metadata": {},
     "output_type": "execute_result"
    }
   ],
   "source": [
    "devices = get_vitals(lc_u)\n",
    "devices['c'] = 1\n",
    "devices.groupby('deviceid').sum()"
   ]
  },
  {
   "cell_type": "code",
   "execution_count": 17,
   "id": "b38c6792-8faa-41d7-8b17-9c62c8e28826",
   "metadata": {},
   "outputs": [
    {
     "name": "stderr",
     "output_type": "stream",
     "text": [
      "/home/jovyan/datenspende-science/datenspende/utils/load_from_postgres.py:45: UserWarning: pandas only supports SQLAlchemy connectable (engine/connection) or database string URI or sqlite3 DBAPI2 connection. Other DBAPI2 objects are not tested. Please consider using SQLAlchemy.\n",
      "  return pd.read_sql(query, conn)\n"
     ]
    }
   ],
   "source": [
    "vacc = get_vacc(lc_u)"
   ]
  },
  {
   "cell_type": "code",
   "execution_count": 22,
   "id": "29e48dfb-d329-493f-8bb6-8608846d7590",
   "metadata": {},
   "outputs": [],
   "source": [
    "vacc['c'] = 1\n"
   ]
  },
  {
   "cell_type": "code",
   "execution_count": 23,
   "id": "ac86c243-efc3-48da-8b60-d8f24b6f0bd9",
   "metadata": {},
   "outputs": [
    {
     "data": {
      "text/html": [
       "<div>\n",
       "<style scoped>\n",
       "    .dataframe tbody tr th:only-of-type {\n",
       "        vertical-align: middle;\n",
       "    }\n",
       "\n",
       "    .dataframe tbody tr th {\n",
       "        vertical-align: top;\n",
       "    }\n",
       "\n",
       "    .dataframe thead th {\n",
       "        text-align: right;\n",
       "    }\n",
       "</style>\n",
       "<table border=\"1\" class=\"dataframe\">\n",
       "  <thead>\n",
       "    <tr style=\"text-align: right;\">\n",
       "      <th></th>\n",
       "      <th>user_id</th>\n",
       "      <th>question</th>\n",
       "      <th>c</th>\n",
       "    </tr>\n",
       "    <tr>\n",
       "      <th>element</th>\n",
       "      <th></th>\n",
       "      <th></th>\n",
       "      <th></th>\n",
       "    </tr>\n",
       "  </thead>\n",
       "  <tbody>\n",
       "    <tr>\n",
       "      <th>728</th>\n",
       "      <td>55367776</td>\n",
       "      <td>8228</td>\n",
       "      <td>68</td>\n",
       "    </tr>\n",
       "    <tr>\n",
       "      <th>730</th>\n",
       "      <td>1364329</td>\n",
       "      <td>242</td>\n",
       "      <td>2</td>\n",
       "    </tr>\n",
       "  </tbody>\n",
       "</table>\n",
       "</div>"
      ],
      "text/plain": [
       "          user_id  question   c\n",
       "element                        \n",
       "728      55367776      8228  68\n",
       "730       1364329       242   2"
      ]
     },
     "execution_count": 23,
     "metadata": {},
     "output_type": "execute_result"
    }
   ],
   "source": [
    "vacc.groupby('element').sum()\n"
   ]
  },
  {
   "cell_type": "code",
   "execution_count": 25,
   "id": "5826f6c2-527b-48c3-a8ac-487860c794d0",
   "metadata": {},
   "outputs": [
    {
     "data": {
      "text/plain": [
       "134"
      ]
     },
     "execution_count": 25,
     "metadata": {},
     "output_type": "execute_result"
    }
   ],
   "source": [
    "len(lc_u)"
   ]
  },
  {
   "cell_type": "code",
   "execution_count": 26,
   "id": "be290f68-210b-474c-b969-6854cf09d42f",
   "metadata": {},
   "outputs": [
    {
     "data": {
      "text/plain": [
       "70"
      ]
     },
     "execution_count": 26,
     "metadata": {},
     "output_type": "execute_result"
    }
   ],
   "source": [
    "len(vacc)"
   ]
  },
  {
   "cell_type": "code",
   "execution_count": null,
   "id": "286ba681-4778-40b4-96a2-d817847b8f27",
   "metadata": {},
   "outputs": [],
   "source": [
    "# only 70 out of 134 report vaccination status 68 being compl vaccinated and 2 not at all"
   ]
  },
  {
   "cell_type": "code",
   "execution_count": 37,
   "id": "0764603d-2383-48fb-857f-322ba9879288",
   "metadata": {},
   "outputs": [
    {
     "name": "stderr",
     "output_type": "stream",
     "text": [
      "/home/jovyan/datenspende-science/datenspende/utils/load_from_postgres.py:45: UserWarning: pandas only supports SQLAlchemy connectable (engine/connection) or database string URI or sqlite3 DBAPI2 connection. Other DBAPI2 objects are not tested. Please consider using SQLAlchemy.\n",
      "  return pd.read_sql(query, conn)\n"
     ]
    }
   ],
   "source": [
    "sex = get_info(lc_u)"
   ]
  },
  {
   "cell_type": "code",
   "execution_count": 38,
   "id": "06eaa922-12d8-4de9-a6f9-64177f2c7fc3",
   "metadata": {},
   "outputs": [
    {
     "data": {
      "text/html": [
       "<div>\n",
       "<style scoped>\n",
       "    .dataframe tbody tr th:only-of-type {\n",
       "        vertical-align: middle;\n",
       "    }\n",
       "\n",
       "    .dataframe tbody tr th {\n",
       "        vertical-align: top;\n",
       "    }\n",
       "\n",
       "    .dataframe thead th {\n",
       "        text-align: right;\n",
       "    }\n",
       "</style>\n",
       "<table border=\"1\" class=\"dataframe\">\n",
       "  <thead>\n",
       "    <tr style=\"text-align: right;\">\n",
       "      <th></th>\n",
       "      <th>user_id</th>\n",
       "      <th>question</th>\n",
       "      <th>c</th>\n",
       "    </tr>\n",
       "    <tr>\n",
       "      <th>element</th>\n",
       "      <th></th>\n",
       "      <th></th>\n",
       "      <th></th>\n",
       "    </tr>\n",
       "  </thead>\n",
       "  <tbody>\n",
       "    <tr>\n",
       "      <th>773</th>\n",
       "      <td>56484433</td>\n",
       "      <td>8255</td>\n",
       "      <td>65</td>\n",
       "    </tr>\n",
       "    <tr>\n",
       "      <th>774</th>\n",
       "      <td>47817604</td>\n",
       "      <td>6858</td>\n",
       "      <td>54</td>\n",
       "    </tr>\n",
       "  </tbody>\n",
       "</table>\n",
       "</div>"
      ],
      "text/plain": [
       "          user_id  question   c\n",
       "element                        \n",
       "773      56484433      8255  65\n",
       "774      47817604      6858  54"
      ]
     },
     "execution_count": 38,
     "metadata": {},
     "output_type": "execute_result"
    }
   ],
   "source": [
    "sex['c'] = 1\n",
    "sex.groupby('element').sum()"
   ]
  },
  {
   "cell_type": "code",
   "execution_count": 39,
   "id": "2854fa9b-6ebc-4082-97f9-0f4cb523b47c",
   "metadata": {},
   "outputs": [
    {
     "name": "stdout",
     "output_type": "stream",
     "text": [
      "54.621848739495796% are female\n"
     ]
    }
   ],
   "source": [
    "print(str(len(sex[(sex['element']==773)]) / len(sex) * 100) +'% are female')"
   ]
  },
  {
   "cell_type": "code",
   "execution_count": 40,
   "id": "9131e6ee-98ff-48e8-b852-28abea880b5f",
   "metadata": {},
   "outputs": [
    {
     "name": "stderr",
     "output_type": "stream",
     "text": [
      "/home/jovyan/datenspende-science/datenspende/utils/load_from_postgres.py:45: UserWarning: pandas only supports SQLAlchemy connectable (engine/connection) or database string URI or sqlite3 DBAPI2 connection. Other DBAPI2 objects are not tested. Please consider using SQLAlchemy.\n",
      "  return pd.read_sql(query, conn)\n"
     ]
    }
   ],
   "source": [
    "dem = get_demo(lc_u)"
   ]
  },
  {
   "cell_type": "code",
   "execution_count": 41,
   "id": "6e8a7677-c5e2-403b-b7b6-c5bf6627d26b",
   "metadata": {},
   "outputs": [],
   "source": [
    "info = pd.merge(sex, dem, how='outer', on='user_id')"
   ]
  },
  {
   "cell_type": "code",
   "execution_count": 42,
   "id": "94811afe-c263-4447-8192-9f66b6123044",
   "metadata": {},
   "outputs": [],
   "source": [
    "def get_s(s):\n",
    "    if s == 774:\n",
    "        sex = 'male'\n",
    "    elif s == 773:\n",
    "        sex = 'female'\n",
    "    else:\n",
    "        sex = 'nd'\n",
    "    return sex"
   ]
  },
  {
   "cell_type": "code",
   "execution_count": 43,
   "id": "4f3a3758-2533-4e6b-90bb-ba262eb62c29",
   "metadata": {},
   "outputs": [],
   "source": [
    "info['sex'] = info['element'].apply(lambda x: get_s(x))"
   ]
  },
  {
   "cell_type": "code",
   "execution_count": 44,
   "id": "e7bf0517-22f1-497b-886e-24e55588e6c5",
   "metadata": {},
   "outputs": [],
   "source": [
    "info['bmi'] = info['weight']/((info['height']*0.01)**2);\n"
   ]
  },
  {
   "cell_type": "code",
   "execution_count": 49,
   "id": "7c0817bd-514c-416d-82fa-197073589022",
   "metadata": {
    "tags": []
   },
   "outputs": [
    {
     "data": {
      "text/html": [
       "<div>\n",
       "<style scoped>\n",
       "    .dataframe tbody tr th:only-of-type {\n",
       "        vertical-align: middle;\n",
       "    }\n",
       "\n",
       "    .dataframe tbody tr th {\n",
       "        vertical-align: top;\n",
       "    }\n",
       "\n",
       "    .dataframe thead th {\n",
       "        text-align: right;\n",
       "    }\n",
       "</style>\n",
       "<table border=\"1\" class=\"dataframe\">\n",
       "  <thead>\n",
       "    <tr style=\"text-align: right;\">\n",
       "      <th></th>\n",
       "      <th>user_id</th>\n",
       "      <th>question</th>\n",
       "      <th>element</th>\n",
       "      <th>c</th>\n",
       "      <th>salutation</th>\n",
       "      <th>birth_date</th>\n",
       "      <th>weight</th>\n",
       "      <th>height</th>\n",
       "      <th>bmi</th>\n",
       "    </tr>\n",
       "    <tr>\n",
       "      <th>age</th>\n",
       "      <th></th>\n",
       "      <th></th>\n",
       "      <th></th>\n",
       "      <th></th>\n",
       "      <th></th>\n",
       "      <th></th>\n",
       "      <th></th>\n",
       "      <th></th>\n",
       "      <th></th>\n",
       "    </tr>\n",
       "  </thead>\n",
       "  <tbody>\n",
       "    <tr>\n",
       "      <th>21.0</th>\n",
       "      <td>1218071</td>\n",
       "      <td>127.0</td>\n",
       "      <td>774.0</td>\n",
       "      <td>1.0</td>\n",
       "      <td>20</td>\n",
       "      <td>2004</td>\n",
       "      <td>85.0</td>\n",
       "      <td>185.0</td>\n",
       "      <td>24.835646</td>\n",
       "    </tr>\n",
       "    <tr>\n",
       "      <th>25.0</th>\n",
       "      <td>1307225</td>\n",
       "      <td>254.0</td>\n",
       "      <td>1548.0</td>\n",
       "      <td>2.0</td>\n",
       "      <td>40</td>\n",
       "      <td>4000</td>\n",
       "      <td>130.0</td>\n",
       "      <td>350.0</td>\n",
       "      <td>42.491453</td>\n",
       "    </tr>\n",
       "    <tr>\n",
       "      <th>30.0</th>\n",
       "      <td>4835668</td>\n",
       "      <td>635.0</td>\n",
       "      <td>3867.0</td>\n",
       "      <td>5.0</td>\n",
       "      <td>70</td>\n",
       "      <td>9975</td>\n",
       "      <td>195.0</td>\n",
       "      <td>510.0</td>\n",
       "      <td>66.931946</td>\n",
       "    </tr>\n",
       "    <tr>\n",
       "      <th>35.0</th>\n",
       "      <td>6854172</td>\n",
       "      <td>889.0</td>\n",
       "      <td>5412.0</td>\n",
       "      <td>7.0</td>\n",
       "      <td>80</td>\n",
       "      <td>13930</td>\n",
       "      <td>355.0</td>\n",
       "      <td>685.0</td>\n",
       "      <td>120.913237</td>\n",
       "    </tr>\n",
       "    <tr>\n",
       "      <th>40.0</th>\n",
       "      <td>7401377</td>\n",
       "      <td>1016.0</td>\n",
       "      <td>6188.0</td>\n",
       "      <td>8.0</td>\n",
       "      <td>120</td>\n",
       "      <td>15880</td>\n",
       "      <td>605.0</td>\n",
       "      <td>1200.0</td>\n",
       "      <td>204.723943</td>\n",
       "    </tr>\n",
       "    <tr>\n",
       "      <th>45.0</th>\n",
       "      <td>20411018</td>\n",
       "      <td>2667.0</td>\n",
       "      <td>16239.0</td>\n",
       "      <td>21.0</td>\n",
       "      <td>290</td>\n",
       "      <td>43560</td>\n",
       "      <td>1225.0</td>\n",
       "      <td>2745.0</td>\n",
       "      <td>416.090347</td>\n",
       "    </tr>\n",
       "    <tr>\n",
       "      <th>50.0</th>\n",
       "      <td>20573082</td>\n",
       "      <td>2921.0</td>\n",
       "      <td>17788.0</td>\n",
       "      <td>23.0</td>\n",
       "      <td>350</td>\n",
       "      <td>49375</td>\n",
       "      <td>1440.0</td>\n",
       "      <td>2910.0</td>\n",
       "      <td>492.350662</td>\n",
       "    </tr>\n",
       "    <tr>\n",
       "      <th>55.0</th>\n",
       "      <td>16166721</td>\n",
       "      <td>1905.0</td>\n",
       "      <td>11604.0</td>\n",
       "      <td>15.0</td>\n",
       "      <td>280</td>\n",
       "      <td>35460</td>\n",
       "      <td>1190.0</td>\n",
       "      <td>2575.0</td>\n",
       "      <td>400.797755</td>\n",
       "    </tr>\n",
       "    <tr>\n",
       "      <th>60.0</th>\n",
       "      <td>17162317</td>\n",
       "      <td>2286.0</td>\n",
       "      <td>13924.0</td>\n",
       "      <td>18.0</td>\n",
       "      <td>310</td>\n",
       "      <td>39300</td>\n",
       "      <td>1225.0</td>\n",
       "      <td>2455.0</td>\n",
       "      <td>397.106496</td>\n",
       "    </tr>\n",
       "    <tr>\n",
       "      <th>65.0</th>\n",
       "      <td>10593967</td>\n",
       "      <td>1270.0</td>\n",
       "      <td>7735.0</td>\n",
       "      <td>10.0</td>\n",
       "      <td>210</td>\n",
       "      <td>25480</td>\n",
       "      <td>600.0</td>\n",
       "      <td>1210.0</td>\n",
       "      <td>199.660461</td>\n",
       "    </tr>\n",
       "    <tr>\n",
       "      <th>70.0</th>\n",
       "      <td>8477231</td>\n",
       "      <td>762.0</td>\n",
       "      <td>4640.0</td>\n",
       "      <td>6.0</td>\n",
       "      <td>120</td>\n",
       "      <td>17595</td>\n",
       "      <td>580.0</td>\n",
       "      <td>1225.0</td>\n",
       "      <td>188.230761</td>\n",
       "    </tr>\n",
       "    <tr>\n",
       "      <th>75.0</th>\n",
       "      <td>1808840</td>\n",
       "      <td>254.0</td>\n",
       "      <td>1548.0</td>\n",
       "      <td>2.0</td>\n",
       "      <td>60</td>\n",
       "      <td>5850</td>\n",
       "      <td>70.0</td>\n",
       "      <td>180.0</td>\n",
       "      <td>21.604938</td>\n",
       "    </tr>\n",
       "    <tr>\n",
       "      <th>80.0</th>\n",
       "      <td>388058</td>\n",
       "      <td>127.0</td>\n",
       "      <td>774.0</td>\n",
       "      <td>1.0</td>\n",
       "      <td>20</td>\n",
       "      <td>1945</td>\n",
       "      <td>85.0</td>\n",
       "      <td>170.0</td>\n",
       "      <td>29.411765</td>\n",
       "    </tr>\n",
       "  </tbody>\n",
       "</table>\n",
       "</div>"
      ],
      "text/plain": [
       "       user_id  question  element     c  salutation  birth_date  weight  \\\n",
       "age                                                                       \n",
       "21.0   1218071     127.0    774.0   1.0          20        2004    85.0   \n",
       "25.0   1307225     254.0   1548.0   2.0          40        4000   130.0   \n",
       "30.0   4835668     635.0   3867.0   5.0          70        9975   195.0   \n",
       "35.0   6854172     889.0   5412.0   7.0          80       13930   355.0   \n",
       "40.0   7401377    1016.0   6188.0   8.0         120       15880   605.0   \n",
       "45.0  20411018    2667.0  16239.0  21.0         290       43560  1225.0   \n",
       "50.0  20573082    2921.0  17788.0  23.0         350       49375  1440.0   \n",
       "55.0  16166721    1905.0  11604.0  15.0         280       35460  1190.0   \n",
       "60.0  17162317    2286.0  13924.0  18.0         310       39300  1225.0   \n",
       "65.0  10593967    1270.0   7735.0  10.0         210       25480   600.0   \n",
       "70.0   8477231     762.0   4640.0   6.0         120       17595   580.0   \n",
       "75.0   1808840     254.0   1548.0   2.0          60        5850    70.0   \n",
       "80.0    388058     127.0    774.0   1.0          20        1945    85.0   \n",
       "\n",
       "      height         bmi  \n",
       "age                       \n",
       "21.0   185.0   24.835646  \n",
       "25.0   350.0   42.491453  \n",
       "30.0   510.0   66.931946  \n",
       "35.0   685.0  120.913237  \n",
       "40.0  1200.0  204.723943  \n",
       "45.0  2745.0  416.090347  \n",
       "50.0  2910.0  492.350662  \n",
       "55.0  2575.0  400.797755  \n",
       "60.0  2455.0  397.106496  \n",
       "65.0  1210.0  199.660461  \n",
       "70.0  1225.0  188.230761  \n",
       "75.0   180.0   21.604938  \n",
       "80.0   170.0   29.411765  "
      ]
     },
     "execution_count": 49,
     "metadata": {},
     "output_type": "execute_result"
    }
   ],
   "source": [
    "info.groupby('age').sum()"
   ]
  },
  {
   "cell_type": "code",
   "execution_count": 54,
   "id": "b285a29a-2ed5-4bae-b691-e5b069ad27be",
   "metadata": {
    "tags": []
   },
   "outputs": [],
   "source": [
    "bins = np.linspace(0, 100, 10)"
   ]
  },
  {
   "cell_type": "code",
   "execution_count": 56,
   "id": "4955a504-016e-4210-a73e-d7559216c0b9",
   "metadata": {},
   "outputs": [
    {
     "data": {
      "image/png": "[encoded data removed]",
      "text/plain": [
       "<Figure size 640x480 with 1 Axes>"
      ]
     },
     "metadata": {},
     "output_type": "display_data"
    }
   ],
   "source": [
    "plt.hist(info[info['sex'] == 'male']['age'],bins=bins,histtype='step')\n",
    "plt.hist(info[info['sex'] == 'female']['age'], bins = bins,histtype='step')\n",
    "plt.hist(info[info['sex'] == 'nd']['age'], bins = bins,histtype='step')\n",
    "plt.ylabel('# user')\n",
    "plt.xlabel('age [y]')\n",
    "plt.legend(['male', 'female', 'not defined']);"
   ]
  },
  {
   "cell_type": "code",
   "execution_count": 62,
   "id": "4baf253f-347a-437a-8edd-20c667612919",
   "metadata": {
    "tags": []
   },
   "outputs": [],
   "source": [
    "bins = np.linspace(10, 60, 20)"
   ]
  },
  {
   "cell_type": "code",
   "execution_count": 63,
   "id": "848bb6ae-3d18-4ff1-8c36-b6694d1e38b9",
   "metadata": {},
   "outputs": [
    {
     "data": {
      "image/png": "[encoded data removed]",
      "text/plain": [
       "<Figure size 640x480 with 1 Axes>"
      ]
     },
     "metadata": {},
     "output_type": "display_data"
    }
   ],
   "source": [
    "plt.hist(info[info['sex'] == 'male']['bmi'], bins = bins, histtype='step')\n",
    "plt.hist(info[info['sex'] == 'female']['bmi'], bins = bins,histtype='step')\n",
    "plt.hist(info[info['sex'] == 'nd']['bmi'], bins = bins,histtype='step')\n",
    "plt.ylabel('# user')\n",
    "plt.xlabel('bmi')\n",
    "plt.legend(['male', 'female', 'not defined']);"
   ]
  },
  {
   "cell_type": "code",
   "execution_count": null,
   "id": "119adc68-8f00-4c3f-a31d-97c6822075d7",
   "metadata": {},
   "outputs": [],
   "source": []
  }
 ],
 "metadata": {
  "kernelspec": {
   "display_name": "Python (epoch_kl)",
   "language": "python",
   "name": "epoch_kl"
  },
  "language_info": {
   "codemirror_mode": {
    "name": "ipython",
    "version": 3
   },
   "file_extension": ".py",
   "mimetype": "text/x-python",
   "name": "python",
   "nbconvert_exporter": "python",
   "pygments_lexer": "ipython3",
   "version": "3.10.10"
  }
 },
 "nbformat": 4,
 "nbformat_minor": 5
}
