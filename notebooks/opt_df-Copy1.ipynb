{
 "cells": [
  {
   "cell_type": "code",
   "execution_count": 1,
   "id": "5684281e-22c8-4223-a0c5-132ac82199c6",
   "metadata": {
    "tags": []
   },
   "outputs": [
    {
     "ename": "ImportError",
     "evalue": "cannot import name 'env' from 'os' (/opt/conda/lib/python3.10/os.py)",
     "output_type": "error",
     "traceback": [
      "\u001b[0;31m---------------------------------------------------------------------------\u001b[0m",
      "\u001b[0;31mImportError\u001b[0m                               Traceback (most recent call last)",
      "Cell \u001b[0;32mIn [1], line 1\u001b[0m\n\u001b[0;32m----> 1\u001b[0m \u001b[38;5;28;01mfrom\u001b[39;00m \u001b[38;5;21;01mos\u001b[39;00m \u001b[38;5;28;01mimport\u001b[39;00m env\n",
      "\u001b[0;31mImportError\u001b[0m: cannot import name 'env' from 'os' (/opt/conda/lib/python3.10/os.py)"
     ]
    }
   ],
   "source": [
    "from os import env "
   ]
  },
  {
   "cell_type": "code",
   "execution_count": 2,
   "id": "2d126d78-2093-4e5d-b759-86af4076c732",
   "metadata": {},
   "outputs": [
    {
     "data": {
      "text/html": [
       "<div style='background-color: #f2f2f2; display: inline-block; padding: 10px; border: 1px solid #999999;'>\n",
       "  <h3>GatewayCluster</h3>\n",
       "  <ul>\n",
       "    <li><b>Name: </b>jupyterhub-prod.1f1ca969aa174bb39231a8426f28a263\n",
       "    <li><b>Dashboard: </b><a href='/jupyterhub/services/dask-gateway/clusters/jupyterhub-prod.1f1ca969aa174bb39231a8426f28a263/status' target='_blank'>/jupyterhub/services/dask-gateway/clusters/jupyterhub-prod.1f1ca969aa174bb39231a8426f28a263/status</a>\n",
       "  </ul>\n",
       "</div>\n"
      ],
      "text/plain": [
       "GatewayCluster<jupyterhub-prod.1f1ca969aa174bb39231a8426f28a263, status=running>"
      ]
     },
     "metadata": {},
     "output_type": "display_data"
    }
   ],
   "source": [
    "#import sys\n",
    "#!{sys.executable} -m pip install dask_gateway\n",
    "from dask_gateway import GatewayCluster\n",
    "cluster = GatewayCluster()\n",
    "cluster"
   ]
  },
  {
   "cell_type": "code",
   "execution_count": 2,
   "id": "7145fc46-0f3d-4da1-b76e-ae2af40a9704",
   "metadata": {},
   "outputs": [],
   "source": [
    "import numpy as np\n",
    "import pandas as pd \n",
    "import matplotlib.pyplot as plt\n",
    "from datenspende.utils import query_ch_df, query_pg_df\n",
    "import datetime\n",
    "from datetime import date\n",
    "import warnings\n",
    "warnings.simplefilter(action='ignore', category=FutureWarning)\n",
    "import re\n",
    "import os\n",
    "import glob\n",
    "from functools import reduce"
   ]
  },
  {
   "cell_type": "code",
   "execution_count": 3,
   "id": "e2c64a37-c723-4cd9-b367-dbd5e5e17702",
   "metadata": {},
   "outputs": [],
   "source": [
    "lc_u2=np.load('uid_per_shb_fatigue(1).npy')"
   ]
  },
  {
   "cell_type": "code",
   "execution_count": 4,
   "id": "9d6d7d77-4612-48fa-ac3e-d3b21bd67dec",
   "metadata": {},
   "outputs": [],
   "source": [
    "value_types = pd.read_csv('epoch_value_types.csv')\n",
    "value_types = value_types.rename(columns={\"id\": \"type\"})"
   ]
  },
  {
   "cell_type": "code",
   "execution_count": 5,
   "id": "b5b27c8a-49af-453f-ab5d-d72768601503",
   "metadata": {},
   "outputs": [],
   "source": [
    "def add_s(st, end):\n",
    "    \n",
    "    if st == end:\n",
    "        end += pd.Timedelta(seconds=1)\n",
    "    return end"
   ]
  },
  {
   "cell_type": "code",
   "execution_count": 6,
   "id": "4535cec1-6b83-4632-b225-c71df003be91",
   "metadata": {},
   "outputs": [],
   "source": [
    "def clean_endv(st, end):\n",
    "    if end == pd.Timestamp('1970-01-01 00:00:00'):\n",
    "        end = st\n",
    "    return end"
   ]
  },
  {
   "cell_type": "code",
   "execution_count": 7,
   "id": "214443ae-0146-44dd-adaf-e0df978fff2b",
   "metadata": {},
   "outputs": [],
   "source": [
    "def get_epoch(user_ids):\n",
    "     \n",
    "    ft = tuple(user_ids)    \n",
    "    us_data = query_ch_df(\n",
    "        \"\"\"SELECT * FROM rocs.vital_data_epoch WHERE vital_data_epoch.customer IN {}\"\"\".format(ft)   )\n",
    "    \n",
    "    us_data = pd.merge(us_data, value_types, on='type')\n",
    "    us_data = us_data.drop(columns=['type'])\n",
    "    us_data = us_data.rename(columns={\"code\": \"type\"})\n",
    "    us_data.startTimestamp = us_data.startTimestamp//1000\n",
    "    us_data.endTimestamp = us_data.endTimestamp//1000\n",
    "    us_data.startTimestamp = us_data.startTimestamp.apply(lambda x: datetime.datetime.fromtimestamp(x))\n",
    "    us_data.endTimestamp = us_data.endTimestamp.apply(lambda x: datetime.datetime.fromtimestamp(x))\n",
    "    us_data.endTimestamp  = us_data.apply(lambda x: clean_endv(x.startTimestamp, x.endTimestamp),axis=1)\n",
    "    us_data.endTimestamp  = us_data.apply(lambda x: add_s(x.startTimestamp, x.endTimestamp),axis=1)\n",
    "    us_data = us_data.rename(columns={\"startTimestamp\": \"start\", \"endTimestamp\": \"end\"})\n",
    "    us_data = us_data.rename(columns={\"customer\": \"id\"})\n",
    "    \n",
    "    return us_data"
   ]
  },
  {
   "cell_type": "code",
   "execution_count": 8,
   "id": "2c506bef-1db3-470d-b2ff-8c52616e21c8",
   "metadata": {},
   "outputs": [],
   "source": [
    "# get age\n",
    "def get_demo(user_ids):\n",
    "    \n",
    "    if isinstance(user_ids, int) or isinstance(user_ids, np.int64):\n",
    "        formatter = f'({user_ids})'\n",
    "    elif len(user_ids) == 1:\n",
    "        formatter = f'({user_ids[0]})'\n",
    "    else:\n",
    "        formatter = tuple(user_ids) \n",
    " \n",
    "    query = f\"\"\"\n",
    "    SELECT \n",
    "        user_id, salutation, birth_date, weight, height, creation_timestamp\n",
    "    FROM \n",
    "        rocs.datenspende.users\n",
    "    WHERE \n",
    "        users.user_id IN {formatter} \n",
    "    \"\"\" \n",
    "\n",
    "    users = query_pg_df(query)\n",
    "    users.creation_timestamp = pd.to_datetime(users['creation_timestamp'],unit='ms') \n",
    "    users.creation_timestamp = users.creation_timestamp.dt.date\n",
    "    users['age'] = np.floor((2023 + 1 / 12) - users['birth_date'] + 2.5)\n",
    "\n",
    "    return users"
   ]
  },
  {
   "cell_type": "code",
   "execution_count": 9,
   "id": "3d90b940-108f-415b-a372-74c4a7864fc0",
   "metadata": {},
   "outputs": [],
   "source": [
    "def get_sex(user_ids):\n",
    " \n",
    "    if isinstance(user_ids, int) or isinstance(user_ids, np.int64):\n",
    "        formatter = f'({user_ids})'\n",
    "    elif len(user_ids) == 1:\n",
    "        formatter = f'({user_ids[0]})'\n",
    "    else:\n",
    "        formatter = tuple(user_ids)\n",
    "\n",
    "    qu = f\"\"\"\n",
    "    select    \n",
    "        a.user_id,\n",
    "        a.created_at,\n",
    "        a.question,\n",
    "        a.element        \n",
    "    from \n",
    "        rocs.datenspende.answers a\n",
    "    where \n",
    "        a.user_id IN {formatter}\n",
    "    AND\n",
    "        a.question = 127    \n",
    "    \"\"\"\n",
    "    users = query_pg_df(qu)\n",
    "    users.created_at = pd.to_datetime(users['created_at'],unit='ms')\n",
    "    users.created_at = users.created_at.dt.date\n",
    "\n",
    "    return users"
   ]
  },
  {
   "cell_type": "code",
   "execution_count": 10,
   "id": "20dd1e2b-63cb-4104-9398-2cda6d65f00d",
   "metadata": {},
   "outputs": [],
   "source": [
    "# this method takes all the users epoch data and puts it into bin_size_in_min bins of hr / steps data\n",
    "# data explanation\n",
    "# user_data is a dataframe for a single user, single source, HR + steps data\n",
    "# columns\n",
    "# id: user id\n",
    "# longValue: HR in bpm\n",
    "# doubleValue: steps [count]\n",
    "# type: either \"HeartRate\" or \"Steps\"\n",
    "# start: datetime start epoch\n",
    "# end: datetime end epoch\n",
    "# source: data source\n",
    "# \n",
    "#      type source  doubleValue  longValue               id               start                 end\n",
    "# HeartRate Fitbit          NaN       98.0       1234567890 2022-05-28 15:22:26 2022-05-28 15:41:13\n",
    "#     Steps Fitbit       1526.0        NaN       1234567890 2022-05-28 15:22:26 2022-05-28 15:41:13\n",
    "# HeartRate Fitbit          NaN      104.0       1234567890 2022-05-28 17:57:00 2022-05-28 19:31:47\n",
    "#     Steps Fitbit       9269.0        NaN       1234567890 2022-05-28 17:57:00 2022-05-28 19:31:47\n",
    "# HeartRate Fitbit          NaN      105.0       1234567890 2022-05-28 22:15:43 2022-05-28 22:40:30\n",
    "def resample(us_data, bin_size_in_min):\n",
    "    \n",
    "        \n",
    "    if len(us_data.index) > 50:\n",
    "        \n",
    "        user_data = us_data.copy()\n",
    "        user_data = user_data[['id', 'doubleValue', 'longValue', 'booleanValue', 'start', 'end', 'source', 'type']]\n",
    "        user_data.rename(\n",
    "            columns={\"longValue\": \"hr\", \"doubleValue\": \"steps\", \"booleanValue\": \"sleep\"}, inplace=True\n",
    "        )\n",
    "        user_data[\"duration\"] = (user_data.end - user_data.start) / pd.Timedelta(\n",
    "            \"1 sec\"\n",
    "        )\n",
    "        user_data.reset_index(drop=True, inplace=True)\n",
    "        \n",
    "        add_values = user_data[(user_data.duration > 1)&(user_data.type == 'Steps')]\n",
    "\n",
    "        new_values = []\n",
    "        for idx, row in add_values.iterrows():\n",
    "            for i in np.arange(0, row.duration, 1):\n",
    "                end_time = min(\n",
    "                    row.end,\n",
    "                    row.start\n",
    "                    + pd.Timedelta(\"%d sec\" % i)\n",
    "                    + pd.Timedelta(\"%d sec\" % 1),\n",
    "                )\n",
    "                new_duration = (\n",
    "                    end_time - (row.start + pd.Timedelta(\"%d sec\" % i))\n",
    "                ) / pd.Timedelta(\"1 sec\")\n",
    "                new_values.append([\n",
    "                    \n",
    "                    row.id,\n",
    "                    (row.steps / (row.duration / new_duration)),\n",
    "                    row.hr,\n",
    "                    row.sleep,\n",
    "                    row.start + pd.Timedelta(\"%d sec\" % i),\n",
    "                    end_time,\n",
    "                    row.source,\n",
    "                    row.type,\n",
    "                    new_duration,\n",
    "                ])\n",
    "        steps = user_data[(user_data.duration <= 1)&(user_data.type == 'Steps')].append(pd.DataFrame(data=new_values, columns=user_data.columns))\n",
    "        steps = steps.sort_values(by='start')\n",
    "        steps = steps.groupby(['start','type']).mean().reset_index()\n",
    "        \n",
    "        if 'hr' not in steps.columns:\n",
    "            steps['hr'] = np.nan\n",
    "        if 'sleep' not in steps.columns:\n",
    "            steps['sleep'] = np.nan\n",
    "            \n",
    "        df = user_data[user_data.type != 'Steps'].append(steps)\n",
    "        \n",
    "        add_values = df[(df.duration > 60)]\n",
    "\n",
    "        new_values = []\n",
    "        for idx, row in add_values.iterrows():\n",
    "            for i in np.arange(0, row.duration, 60):\n",
    "                end_time = min(\n",
    "                    row.end,\n",
    "                    row.start\n",
    "                    + pd.Timedelta(\"%d sec\" % i)\n",
    "                    + pd.Timedelta(\"%d sec\" % 60),\n",
    "                )\n",
    "                new_duration = (\n",
    "                    end_time - (row.start + pd.Timedelta(\"%d sec\" % i))\n",
    "                ) / pd.Timedelta(\"1 sec\")\n",
    "                new_values.append([\n",
    "                    \n",
    "                    row.id,\n",
    "                    (row.steps / (row.duration / new_duration)),\n",
    "                    row.hr,\n",
    "                    row.sleep,\n",
    "                    row.start + pd.Timedelta(\"%d sec\" % i),\n",
    "                    end_time,\n",
    "                    row.source,\n",
    "                    row.type,\n",
    "                    new_duration,\n",
    "                ])\n",
    "                \n",
    "        df = df[df.duration <= 60].append(pd.DataFrame(data=new_values, columns=user_data.columns))\n",
    "        df = df.sort_values(by='start')\n",
    "        df = df.groupby(['start','type']).mean().reset_index()\n",
    "        \n",
    "        heartrate_bin = (\n",
    "            df[df.type == \"HeartRate\"][[\"start\", \"hr\"]]\n",
    "            .set_index(\"start\")\n",
    "            .resample(\"%d Min\" % bin_size_in_min)\n",
    "            .mean()\n",
    "            .reset_index()\n",
    "        ).dropna(subset=[\"hr\"])\n",
    "        heartrate_bin[\"source\"] = df.source.unique()[0]\n",
    "        heartrate_bin[\"id\"] = df.id.unique()[0]\n",
    "      \n",
    "        restheartrate_bin = (\n",
    "            df[df.type == \"HeartRateRestingHourly\"][[\"start\",  \"hr\"]]\n",
    "            .set_index(\"start\")\n",
    "            .resample(\"%d Min\" % bin_size_in_min)\n",
    "            .mean()\n",
    "            .reset_index()\n",
    "        ).dropna(subset=[\"hr\"])\n",
    "       \n",
    "        restheartrate_bin = restheartrate_bin.rename(columns={\"hr\": \"rhr\"})\n",
    "  \n",
    "        sleep_bin = (\n",
    "            df[df.type == \"SleepStateBinary\"][[\"start\",  \"sleep\"]]\n",
    "            .set_index(\"start\")\n",
    "            .resample(\"%d Min\" % bin_size_in_min)\n",
    "            .mean()\n",
    "            .reset_index()\n",
    "        ).dropna(subset=[\"sleep\"])\n",
    "\n",
    "        steps_bin = (\n",
    "            df[df.type == \"Steps\"][[\"start\",  \"steps\"]]\n",
    "            .set_index(\"start\")\n",
    "            .resample(\"%d Min\" % bin_size_in_min)\n",
    "            .sum()\n",
    "            .reset_index()\n",
    "        ).dropna(subset=[\"steps\"])     \n",
    "\n",
    "        data_frames = [heartrate_bin, restheartrate_bin, sleep_bin, steps_bin]\n",
    "        df_lc = reduce(lambda  left,right: pd.merge(left,right,on=['start'],\n",
    "                                                    how='outer'), data_frames)\n",
    "        return df_lc\n",
    "    return "
   ]
  },
  {
   "cell_type": "code",
   "execution_count": 11,
   "id": "758cae0a-d66a-4e47-9b6e-461b5d5b9fb8",
   "metadata": {},
   "outputs": [],
   "source": [
    "def phases(week):\n",
    "    if week < 0:\n",
    "        ph = 0\n",
    "    elif (week >= 0 and week <= 4):\n",
    "        ph = 1\n",
    "    elif (week >= 5 and week <= 12):\n",
    "        ph = 2\n",
    "    elif week > 12:\n",
    "        ph = 3\n",
    "    return ph"
   ]
  },
  {
   "cell_type": "code",
   "execution_count": 12,
   "id": "de400dd7-4bdc-41ce-8802-5f4fedfe3502",
   "metadata": {},
   "outputs": [],
   "source": [
    "pos_test = pd.read_csv('pos_testdate.csv',index_col=0)"
   ]
  },
  {
   "cell_type": "code",
   "execution_count": 13,
   "id": "6fc2cc07-8c3d-49ac-9666-855982e490e8",
   "metadata": {},
   "outputs": [
    {
     "data": {
      "text/plain": [
       "array([ 468824,  494935,  524914,  559075,  586100,  591040,  595740,\n",
       "        601007,  630454,  660061,  676037,  690345,  695700,  713054,\n",
       "        742516,  789093,  813009,  827739,  859881,  865661,  968172,\n",
       "        969827,  996677,  997743, 1000783, 1002244, 1009594, 1052073,\n",
       "       1065613, 1066772, 1075521, 1076206, 1079475, 1083519, 1087836,\n",
       "       1091037, 1092948, 1096492, 1097739, 1106481, 1109983, 1109990,\n",
       "       1110229, 1111591, 1115225, 1115733, 1116909, 1116926, 1118086,\n",
       "       1119737, 1120977, 1122513, 1124152, 1131931, 1132429, 1133066,\n",
       "       1133930, 1134518, 1134612, 1136021, 1137909, 1144870, 1148848,\n",
       "       1149371, 1150130, 1155460, 1206119, 1206673, 1207260, 1208111,\n",
       "       1208175, 1210446, 1210744, 1213819, 1216630, 1217540, 1217724,\n",
       "       1217773, 1218071, 1219200, 1220358, 1224241, 1224439, 1225369,\n",
       "       1225571, 1227939, 1228834, 1229017, 1229920, 1230538, 1232440,\n",
       "       1232956, 1234389, 1235149, 1235177, 1236869, 1236981, 1237557,\n",
       "       1239170, 1239657, 1242046, 1242363, 1244302, 1245237])"
      ]
     },
     "execution_count": 13,
     "metadata": {},
     "output_type": "execute_result"
    }
   ],
   "source": [
    "lc_u2[30:]"
   ]
  },
  {
   "cell_type": "code",
   "execution_count": null,
   "id": "c855be42-4657-490d-8ac1-f63ace323ff3",
   "metadata": {},
   "outputs": [],
   "source": [
    "# 111479\n",
    "# 133343\n",
    "# 146789\n",
    "# 152430\n",
    "# 200221\n",
    "#297815\n",
    "#335403\n",
    "#443607\n",
    "#468824"
   ]
  },
  {
   "cell_type": "code",
   "execution_count": null,
   "id": "17792272-ab75-40ea-a225-9a077bf88b7d",
   "metadata": {},
   "outputs": [
    {
     "name": "stderr",
     "output_type": "stream",
     "text": [
      "/home/jovyan/datenspende-science/datenspende/utils/load_from_postgres.py:45: UserWarning: pandas only supports SQLAlchemy connectable (engine/connection) or database string URI or sqlite3 DBAPI2 connection. Other DBAPI2 objects are not tested. Please consider using SQLAlchemy.\n",
      "  return pd.read_sql(query, conn)\n",
      "/home/jovyan/datenspende-science/datenspende/utils/load_from_postgres.py:45: UserWarning: pandas only supports SQLAlchemy connectable (engine/connection) or database string URI or sqlite3 DBAPI2 connection. Other DBAPI2 objects are not tested. Please consider using SQLAlchemy.\n",
      "  return pd.read_sql(query, conn)\n"
     ]
    }
   ],
   "source": [
    "for us_id in lc_u2[31:]:\n",
    "    gs = get_sex([us_id])\n",
    "    ag = get_demo([us_id])\n",
    "    if len(gs) > 0:\n",
    "        sex = 'female' if gs['element'].values[0] == 773 else 'male'\n",
    "    else: \n",
    "        sex = 'nd'\n",
    "    if len(ag) > 0:\n",
    "        age = ag['age'].values[0]\n",
    "    else:\n",
    "        age = 'nd'\n",
    "\n",
    "    ud = get_epoch([us_id])\n",
    "    if len(ud['source'].unique()) > 1:\n",
    "        # if user has multiple devices, take device with max datapoints\n",
    "        d_len = []\n",
    "        for sour in ud['source'].unique():\n",
    "            d_len.append(len(ud[ud['source'] == sour]))    \n",
    "        ud = ud[ud['source'] == ud['source'].unique()[np.argmax(d_len)]]\n",
    "        user = resample(ud, 15)    \n",
    "    else:\n",
    "        user = resample(ud, 15)\n",
    "        \n",
    "    user['date'] = user.start.apply(lambda x: x.date())\n",
    "    user['day_of_week'] = pd.to_datetime(user['date']).dt.dayofweek     \n",
    " \n",
    "    user['weekend'] = user['day_of_week'].apply(lambda x: True if x >= 5 else False)\n",
    "\n",
    "    user['dt'] = pd.to_datetime(pos_test['dt'][pos_test['user_id'].isin([us_id])].iloc[0])\n",
    "    user['day_totest'] = pd.to_datetime(user['date']) - user['dt'] \n",
    "    user['week_totest'] = user['day_totest'].apply(lambda x: -(x.days// - 7))\n",
    "    user['phase'] = user['week_totest'].apply(lambda x: phases(x))\n",
    "\n",
    "    if sex == 'female':\n",
    "        MHR = 206 - (0.88 * age)\n",
    "    elif sex == 'male':\n",
    "        MHR = 208 - (0.7 * age)\n",
    "    else:\n",
    "        \n",
    "        MHR = np.nan\n",
    "\n",
    "    user['% of MHR'] = (user['hr'])/ MHR * 100\n",
    "\n",
    "    user.to_csv('user_epoch/'+sex+str(age)+str(us_id)+'.csv')\n",
    "     "
   ]
  },
  {
   "cell_type": "code",
   "execution_count": 1,
   "id": "db3745a0-593c-4bc5-8669-d55c41e1d1d8",
   "metadata": {},
   "outputs": [
    {
     "data": {
      "text/plain": [
       "5"
      ]
     },
     "execution_count": 1,
     "metadata": {},
     "output_type": "execute_result"
    }
   ],
   "source": [
    "2+3"
   ]
  },
  {
   "cell_type": "code",
   "execution_count": null,
   "id": "6207dd0f-c5a5-4c9a-9eb1-f8fe0c3a6fc8",
   "metadata": {},
   "outputs": [],
   "source": [
    "        user_data = us_data.copy()\n",
    "        user_data = user_data[['id', 'doubleValue', 'longValue', 'booleanValue', 'start', 'end', 'source', 'type']]\n",
    "        user_data.rename(\n",
    "            columns={\"longValue\": \"hr\", \"doubleValue\": \"steps\", \"booleanValue\": \"sleep\"}, inplace=True\n",
    "        )\n",
    "        user_data[\"duration\"] = (user_data.end - user_data.start) / pd.Timedelta(\n",
    "            \"1 sec\"\n",
    "        )\n",
    "        user_data.reset_index(drop=True, inplace=True)\n",
    "        \n",
    "        add_values = user_data[(user_data.duration > 1)&(user_data.type == 'Steps')]\n",
    "\n",
    "        new_values = []\n",
    "        for idx, row in add_values.iterrows():\n",
    "            for i in np.arange(0, row.duration, 1):\n",
    "                end_time = min(\n",
    "                    row.end,\n",
    "                    row.start\n",
    "                    + pd.Timedelta(\"%d sec\" % i)\n",
    "                    + pd.Timedelta(\"%d sec\" % 1),\n",
    "                )\n",
    "                new_duration = (\n",
    "                    end_time - (row.start + pd.Timedelta(\"%d sec\" % i))\n",
    "                ) / pd.Timedelta(\"1 sec\")\n",
    "                new_values.append([\n",
    "                    \n",
    "                    row.id,\n",
    "                    (row.steps / (row.duration / new_duration)),\n",
    "                    row.hr,\n",
    "                    row.sleep,\n",
    "                    row.start + pd.Timedelta(\"%d sec\" % i),\n",
    "                    end_time,\n",
    "                    row.source,\n",
    "                    row.type,\n",
    "                    new_duration,\n",
    "                ])"
   ]
  },
  {
   "cell_type": "code",
   "execution_count": null,
   "id": "c2bc495a-0a60-4bb5-a6cc-dd440863cb4f",
   "metadata": {},
   "outputs": [],
   "source": [
    "steps = user_data[(user_data.duration <= 1)&(user_data.type == 'Steps')].append(pd.DataFrame(data=new_values, columns=user_data.columns))"
   ]
  },
  {
   "cell_type": "code",
   "execution_count": null,
   "id": "291b897c-ae82-4790-a763-ca3c88ea19f7",
   "metadata": {},
   "outputs": [],
   "source": [
    "steps = steps.sort_values(by='start')"
   ]
  },
  {
   "cell_type": "code",
   "execution_count": null,
   "id": "96124093-6d8d-4166-8425-adf148ea9c3e",
   "metadata": {},
   "outputs": [],
   "source": [
    "steps"
   ]
  },
  {
   "cell_type": "code",
   "execution_count": null,
   "id": "18a834ad-48e8-4096-9024-85896a80afe4",
   "metadata": {},
   "outputs": [],
   "source": [
    "steps = steps.groupby(['start','type']).mean().reset_index()"
   ]
  },
  {
   "cell_type": "code",
   "execution_count": null,
   "id": "bc1eb8b0-ac08-43d2-8744-3e50a080996e",
   "metadata": {},
   "outputs": [],
   "source": [
    "steps = steps.groupby(['start','type']).mean().reset_index()"
   ]
  },
  {
   "cell_type": "code",
   "execution_count": null,
   "id": "e76042ed-7515-461a-aa84-a635c1edbfd1",
   "metadata": {},
   "outputs": [],
   "source": [
    "if 'hr' not in steps.columns:\n",
    "    steps['hr'] = np.nan\n",
    "if 'sleep' not in steps.columns:\n",
    "    steps['sleep'] = np.nan"
   ]
  },
  {
   "cell_type": "code",
   "execution_count": null,
   "id": "13e267ef-5099-4237-ab0a-0de454d4324d",
   "metadata": {},
   "outputs": [],
   "source": [
    "user_data[(user_data.duration > 60)]"
   ]
  },
  {
   "cell_type": "code",
   "execution_count": null,
   "id": "b6b3d17f-04f3-49ac-8ccf-f38ccb7d3752",
   "metadata": {},
   "outputs": [],
   "source": [
    "   \n",
    "        \n",
    "        add_values = user_data[(user_data.duration > 60)]\n",
    "\n",
    "        new_values = []\n",
    "        for idx, row in add_values.iterrows():\n",
    "            for i in np.arange(0, row.duration, 60):\n",
    "                end_time = min(\n",
    "                    row.end,\n",
    "                    row.start\n",
    "                    + pd.Timedelta(\"%d sec\" % i)\n",
    "                    + pd.Timedelta(\"%d sec\" % 60),\n",
    "                )\n",
    "                new_duration = (\n",
    "                    end_time - (row.start + pd.Timedelta(\"%d sec\" % i))\n",
    "                ) / pd.Timedelta(\"1 sec\")\n",
    "                new_values.append([\n",
    "                    \n",
    "                    row.id,\n",
    "                    (row.steps / (row.duration / new_duration)),\n",
    "                    row.hr,\n",
    "                    row.sleep,\n",
    "                    row.start + pd.Timedelta(\"%d sec\" % i),\n",
    "                    end_time,\n",
    "                    row.source,\n",
    "                    row.type,\n",
    "                    new_duration,\n",
    "                ])\n",
    "                \n",
    "        df = user_data[user_data.duration <= 60].append(pd.DataFrame(data=new_values, columns=user_data.columns))\n",
    "        df = df.sort_values(by='start')\n",
    "        df = df.groupby(['start','type']).mean().reset_index()\n",
    "        \n",
    "        heartrate_bin = (\n",
    "            df[df.type == \"HeartRate\"][[\"start\", \"hr\"]]\n",
    "            .set_index(\"start\")\n",
    "            .resample(\"%d Min\" % bin_size_in_min)\n",
    "            .mean()\n",
    "            .reset_index()\n",
    "        ).dropna(subset=[\"hr\"])\n",
    "        heartrate_bin[\"source\"] = df.source.unique()[0]\n",
    "        heartrate_bin[\"id\"] = df.id.unique()[0]\n",
    "      \n",
    "        restheartrate_bin = (\n",
    "            df[df.type == \"HeartRateRestingHourly\"][[\"start\",  \"hr\"]]\n",
    "            .set_index(\"start\")\n",
    "            .resample(\"%d Min\" % bin_size_in_min)\n",
    "            .mean()\n",
    "            .reset_index()\n",
    "        ).dropna(subset=[\"hr\"])\n",
    "       \n",
    "        restheartrate_bin = restheartrate_bin.rename(columns={\"hr\": \"rhr\"})\n",
    "  \n",
    "        sleep_bin = (\n",
    "            df[df.type == \"SleepStateBinary\"][[\"start\",  \"sleep\"]]\n",
    "            .set_index(\"start\")\n",
    "            .resample(\"%d Min\" % bin_size_in_min)\n",
    "            .mean()\n",
    "            .reset_index()\n",
    "        ).dropna(subset=[\"sleep\"])\n",
    "\n",
    "        steps_bin = (\n",
    "            user_data[user_data.type == \"Steps\"][[\"start\",  \"steps\"]]\n",
    "            .set_index(\"start\")\n",
    "            .resample(\"%d Min\" % bin_size_in_min)\n",
    "            .sum()\n",
    "            .reset_index()\n",
    "        ).dropna(subset=[\"steps\"])     \n",
    "\n",
    "        data_frames = [heartrate_bin, restheartrate_bin, sleep_bin, steps_bin]\n",
    "        df_lc = reduce(lambda  left,right: pd.merge(left,right,on=['start'],\n",
    "                                                    how='outer'), data_frames)"
   ]
  },
  {
   "cell_type": "code",
   "execution_count": null,
   "id": "4a02b936-3f21-4f43-a45e-8c1d12540b99",
   "metadata": {},
   "outputs": [],
   "source": [
    "user_data.columns"
   ]
  },
  {
   "cell_type": "code",
   "execution_count": null,
   "id": "f0c1f0a2-ce04-4a1b-aa2a-a25c561101da",
   "metadata": {},
   "outputs": [],
   "source": [
    "(user_data[user_data.type == \"HeartRate\"][[\"start\", \"hr\"]].set_index(\"start\").resample(\"%d Min\" % bin_size_in_min).mean().reset_index().dropna(subset=[\"hr\"])).dropna(subset=[\"hr\"])"
   ]
  },
  {
   "cell_type": "code",
   "execution_count": null,
   "id": "10b9472d-06cb-4fc9-932f-7d54b44eedc1",
   "metadata": {},
   "outputs": [],
   "source": [
    "        steps_bin = (\n",
    "            user_data[user_data.type == \"Steps\"][[\"start\",  \"steps\"]]\n",
    "            .set_index(\"start\")\n",
    "            .resample(\"%d Min\" % bin_size_in_min)\n",
    "            .sum()\n",
    "            .reset_index()\n",
    "        ).dropna(subset=[\"steps\"]) \n",
    "    "
   ]
  },
  {
   "cell_type": "code",
   "execution_count": null,
   "id": "357e4623-f917-4820-a69c-8ca7bf678a9f",
   "metadata": {},
   "outputs": [],
   "source": [
    "steps_bin"
   ]
  },
  {
   "cell_type": "code",
   "execution_count": null,
   "id": "94218c12-5eee-41e6-93a9-713f374948e9",
   "metadata": {},
   "outputs": [],
   "source": [
    "user_data"
   ]
  },
  {
   "cell_type": "code",
   "execution_count": null,
   "id": "0aa9824d-e9dc-463c-b78b-9ab82e19e923",
   "metadata": {},
   "outputs": [],
   "source": []
  }
 ],
 "metadata": {
  "kernelspec": {
   "display_name": "Python (epoch_kl)",
   "language": "python",
   "name": "epoch_kl"
  },
  "language_info": {
   "codemirror_mode": {
    "name": "ipython",
    "version": 3
   },
   "file_extension": ".py",
   "mimetype": "text/x-python",
   "name": "python",
   "nbconvert_exporter": "python",
   "pygments_lexer": "ipython3",
   "version": "3.10.9"
  }
 },
 "nbformat": 4,
 "nbformat_minor": 5
}
