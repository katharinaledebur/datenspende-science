{
 "cells": [
  {
   "cell_type": "code",
   "execution_count": 1,
   "id": "3b34d955-84f0-40d9-9ce1-ba4ca774c626",
   "metadata": {},
   "outputs": [],
   "source": [
    "## import numpy as np\n",
    "import pandas as pd \n",
    "import matplotlib.pyplot as plt\n",
    "from datenspende.utils import query_ch_df, query_pg_df\n",
    "import datetime\n",
    "from datetime import date\n",
    "import warnings\n",
    "warnings.simplefilter(action='ignore', category=FutureWarning)\n",
    "import re\n",
    "import os\n",
    "import numpy as np\n",
    "import glob\n"
   ]
  },
  {
   "cell_type": "code",
   "execution_count": 2,
   "id": "6c63f07f-51b2-4018-a008-908a01f8403d",
   "metadata": {},
   "outputs": [],
   "source": [
    "lc_u = np.load('uid_per_shb_fatigue.npy')\n",
    "lc_u2=np.load('uid_per_shb_fatigue(1).npy')"
   ]
  },
  {
   "cell_type": "code",
   "execution_count": 3,
   "id": "d64d0e1a-de58-4383-ad5d-d67f4324c790",
   "metadata": {},
   "outputs": [
    {
     "data": {
      "text/plain": [
       "60"
      ]
     },
     "execution_count": 3,
     "metadata": {},
     "output_type": "execute_result"
    }
   ],
   "source": [
    "path = os.getcwd()+'/user_df/'\n",
    "csv_files = glob.glob(os.path.join(path, \"*.csv\"))\n",
    "\n",
    "df_lcu = []\n",
    "demo_info = []\n",
    "uid = []\n",
    "for f in csv_files:\n",
    "      \n",
    "    # read the csv file\n",
    "    df = pd.read_csv(f, index_col = 0)\n",
    "    for var in ['sleep', 'hr', 'steps']:\n",
    "        if var not in df.columns:\n",
    "            df[var] = np.nan\n",
    "    df_lcu.append(df)\n",
    "    demo_info.append(f.split(\"/\")[-1].split('.')[0])\n",
    "    uid.append(int(f.split(\"/\")[-1].split('.')[1][1:])) \n",
    "      \n",
    "sex = [re.split('(\\d+)',demo_info[i])[0] for i in range(len(demo_info))]\n",
    "age = [int(re.split('(\\d+)',demo_info[i])[1]) for i in range(len(demo_info))] \n",
    "\n",
    "df_lcu.pop(31)\n",
    "uid.pop(31)\n",
    "sex.pop(31)\n",
    "age.pop(31)\n",
    "df_lcu.pop(67)\n",
    "uid.pop(67)\n",
    "sex.pop(67)\n",
    "age.pop(67)"
   ]
  },
  {
   "cell_type": "code",
   "execution_count": 4,
   "id": "72e58c89-7c77-4f38-a092-4273b21fc6d6",
   "metadata": {},
   "outputs": [
    {
     "name": "stderr",
     "output_type": "stream",
     "text": [
      "\n",
      "KeyboardInterrupt\n",
      "\n"
     ]
    }
   ],
   "source": [
    "df_lcu_agg = []\n",
    "for df in df_lcu:\n",
    "    \n",
    "    df['dt'] = pd.to_datetime(df['dt'])\n",
    "    df['date'] = pd.to_datetime(df['date'])\n",
    "    df = df.sort_values(by='date')\n",
    "    # group by day and hourly - sum up steps and take mean of heart rate\n",
    "    # per day 24 time bins with steps summed up and mean of heart rate\n",
    "    \n",
    "    #for du in range(len(df_lcu[0])): \n",
    "    d = df.copy()\n",
    "    d['steps'] = d['steps'].fillna(0)\n",
    "    d['steps'] = d['steps'] + 1\n",
    "    \n",
    "    d_agg = pd.DataFrame(columns = ['hr', 'd to max hr [%]', 'date', 'time','weekend', 'week_totest', 'phase',\n",
    "       'steps', 'hros'])\n",
    "    \n",
    "    for day in d['date'].unique():\n",
    "        d_day = d[d['date'] ==day]\n",
    "        d_day_agg_m = d_day[['time', 'hr', 'd to max hr [%]']].groupby('time').mean().groupby(np.arange(96)//4).mean()\n",
    "        d_day_agg_s = d_day[['time', 'steps']].groupby('time').sum().groupby(np.arange(96)//4).sum()\n",
    "        hr = d_day_agg_m.loc[:,'hr']\n",
    "        steps = d_day_agg_s.loc[:,'steps']\n",
    "        \n",
    "        \n",
    "        d_day_agg_m['date'] = day\n",
    "        d_day_agg_m['time'] = d_day_agg_m.index\n",
    "        d_day_agg_m['weekend'] = d_day['weekend'].iloc[0]\n",
    "        d_day_agg_m['week_totest'] = d_day['week_totest'].iloc[0]\n",
    "        d_day_agg_m['phase'] = d_day['phase'].iloc[0]\n",
    "        d_day_agg_m['steps'] = steps\n",
    "        d_day_agg_m['hros'] = hr/steps\n",
    "        \n",
    "        \n",
    "        d_agg = d_agg.append(d_day_agg_m)\n",
    "    d_agg = d_agg.reset_index()\n",
    "    df_lcu_agg.append(d_agg)"
   ]
  },
  {
   "cell_type": "code",
   "execution_count": null,
   "id": "4637a53d-7d27-455e-a44f-8fd6842065fe",
   "metadata": {},
   "outputs": [],
   "source": [
    "d_agg = df_lcu_agg[22]"
   ]
  },
  {
   "cell_type": "code",
   "execution_count": null,
   "id": "112bed87-514c-474c-9996-1ca12737db78",
   "metadata": {},
   "outputs": [],
   "source": [
    "fig, ax = plt.subplots(1,4, figsize=(16,8), sharey=True, sharex = True)\n",
    "phases = ['pre', 'acute', 'sub-acute', 'post']\n",
    "for ph in [0,1,2,3]:\n",
    "  \n",
    "    dfph = d_agg[d_agg['phase'] == ph]\n",
    "    \n",
    "    if ph == 0:\n",
    "        n_a,bins = np.histogram(dfph[dfph['steps'] >4]['steps'])\n",
    "    else: \n",
    "        n_a, _ = np.histogram(dfph[dfph['steps'] >4]['steps'], bins = bins)\n",
    "    ax[ph].stairs(n_a/len(dfph[dfph['steps'] >4]['steps']), bins, fill=False)\n",
    " \n",
    "    ax[ph].set_title(phases[ph])\n",
    "    ax[ph].set_xlabel('steps');\n",
    "ax[0].set_ylabel('relative frequency');"
   ]
  },
  {
   "cell_type": "code",
   "execution_count": null,
   "id": "b48ec660-0472-4ebf-a058-13864ac792aa",
   "metadata": {},
   "outputs": [],
   "source": [
    "n_sps = []\n",
    "un_week = []\n",
    "for d in df_lcu_agg:\n",
    "    n_sp = []\n",
    "    for w in d['week_totest'].unique():\n",
    "        n_sp.append(len(d[(d['week_totest'] == w)&(d['steps'] > 3000)&(d['hr'] > 90)]))\n",
    "    un_week.append(d['week_totest'].unique())\n",
    "    n_sps.append(n_sp)"
   ]
  },
  {
   "cell_type": "code",
   "execution_count": null,
   "id": "7b42f65e-e670-4a76-8299-b814970827ab",
   "metadata": {},
   "outputs": [],
   "source": [
    "i = 22\n",
    "\n",
    "plt.scatter(un_week[i], n_sps[i])\n",
    "plt.plot([0]*10, list(range(10)),c='r')\n",
    "plt.xlabel('weeks to test')\n",
    "plt.ylabel('# high activity');"
   ]
  },
  {
   "cell_type": "code",
   "execution_count": null,
   "id": "ede92e05-3769-4354-a4b4-936b82441c3d",
   "metadata": {},
   "outputs": [],
   "source": [
    "fig, axs = plt.subplots(29,4, figsize=(18, 14\n",
    "                                      ), facecolor='w', edgecolor='k',sharex=True)\n",
    "#fig.subplots_adjust(hspace = .5, wspace=.001)\n",
    "\n",
    "axs = axs.ravel()\n",
    "\n",
    "for d in range(len(n_sps)):\n",
    "\n",
    "    axs[d].scatter(un_week[d], n_sps[d],s=.2)\n",
    "    #axs[d].plot([0]*max(n_sps[d]), list(range(max(n_sps[d]))),c='r')\n",
    "    axs[d].axvline(x=0,color='r')\n",
    "    \n",
    "     "
   ]
  },
  {
   "cell_type": "code",
   "execution_count": null,
   "id": "b94a6398-e08d-4840-870d-74a3e8ed8018",
   "metadata": {},
   "outputs": [],
   "source": [
    "phases = ['pre', 'acute', 'sub-acute', 'post'\n",
    "         ]"
   ]
  },
  {
   "cell_type": "code",
   "execution_count": null,
   "id": "5aabc7b9-2a0b-496c-b6a3-bc1709b35576",
   "metadata": {},
   "outputs": [],
   "source": [
    "d_agg = df_lcu_agg[79]"
   ]
  },
  {
   "cell_type": "code",
   "execution_count": null,
   "id": "779c2972-2437-49c9-92f0-ab09b8fa6f46",
   "metadata": {},
   "outputs": [],
   "source": [
    "fig, ax = plt.subplots(1,4,figsize=(16,8),sharex = True, sharey = True)\n",
    "for ph in [0,1,2,3]:\n",
    "    dph = d_agg[d_agg['phase'] == ph]\n",
    "    for dat in  dph['date'].unique():\n",
    "        ax[ph].plot(dph[dph['date'] == dat]['steps'],dph[dph['date'] == dat]['hr'])\n",
    "        x = dph[dph['date'] == dat]['steps'] -4\n",
    "        y = dph[dph['date'] == dat]['hr']\n",
    "        x= x.values\n",
    "        y = y.values\n",
    "        ax[ph].quiver(x[:-1], y[:-1], x[1:]-x[:-1], y[1:]-y[:-1],scale_units='xy',  angles='xy', scale=4,width=0.004)\n",
    "        ax[ph].set_title(phases[ph])\n",
    "        ax[ph].set_xlabel('steps')\n",
    "        ax[ph].set_ylabel('hr');"
   ]
  },
  {
   "cell_type": "code",
   "execution_count": null,
   "id": "fe356b9d-046d-467d-912b-c943e6d6dfa9",
   "metadata": {},
   "outputs": [],
   "source": [
    "i = 80\n",
    "\n",
    "d_agg = df_lcu_agg[i]\n",
    "fig, ax = plt.subplots(1,4,figsize=(16,8),sharex = True, sharey = True)\n",
    "for ph in [0,1,2,3]:\n",
    "    dph = d_agg[d_agg['phase'] == ph]\n",
    "    for dat in  dph['date'].unique():\n",
    "        ax[ph].plot(dph[dph['date'] == dat]['steps'],dph[dph['date'] == dat]['hr'])\n",
    "        x = dph[dph['date'] == dat]['steps'] -4\n",
    "        y = dph[dph['date'] == dat]['hr']\n",
    "        x= x.values\n",
    "        y = y.values\n",
    "        ax[ph].quiver(x[:-1], y[:-1], x[1:]-x[:-1], y[1:]-y[:-1],scale_units='xy',  angles='xy', scale=4,width=0.006)\n",
    "        ax[ph].set_title(phases[ph])\n",
    "        ax[ph].set_xlabel('steps')\n",
    "        ax[ph].set_ylabel('hr');\n",
    "        #ax[ph].set_xlim(0,40000)"
   ]
  },
  {
   "cell_type": "code",
   "execution_count": null,
   "id": "1b10752f-5669-464d-b1cb-ba394ef0ef3d",
   "metadata": {},
   "outputs": [],
   "source": []
  },
  {
   "cell_type": "code",
   "execution_count": null,
   "id": "be8574c6-1dc5-42ba-b14f-8aa1d4bb1b30",
   "metadata": {},
   "outputs": [],
   "source": [
    "from matplotlib.lines import Line2D\n"
   ]
  },
  {
   "cell_type": "code",
   "execution_count": null,
   "id": "d0e6da3a-6454-48f2-aa13-696a200ccff3",
   "metadata": {},
   "outputs": [],
   "source": [
    "i = 22\n",
    "\n",
    "d_agg = df_lcu_agg[i]\n",
    "fig, ax = plt.subplots(1,1,figsize=(14,8),sharex = True, sharey = True)\n",
    "cs = ['k', 'r', 'orange', 'green']\n",
    "cl = [Line2D([i],[i], color=cs[i]) for i in range(len(cs))]\n",
    "for ph in [0,1,2,3]:\n",
    "    dph = d_agg[d_agg['phase'] == ph]\n",
    "    for dat in  dph['date'].unique():\n",
    "        ax.plot(dph[dph['date'] == dat]['steps'],dph[dph['date'] == dat]['hr'],c=cs[ph], alpha =0.1)\n",
    "        x = dph[dph['date'] == dat]['steps'] -4\n",
    "        y = dph[dph['date'] == dat]['hr']\n",
    "        x= x.values\n",
    "        y = y.values\n",
    "        #ax.quiver(x[:-1], y[:-1], x[1:]-x[:-1], y[1:]-y[:-1],scale_units='xy',  angles='xy', scale=4,width=0.004)\n",
    "        #ax.set_title(phases[ph])\n",
    "        ax.set_xlabel('steps')\n",
    "        ax.set_ylabel('hr');\n",
    "    ax.legend(cl, phases)\n",
    "    ax.set_xlim(0, max(d_agg['steps']))\n",
    "    \n",
    "    "
   ]
  },
  {
   "cell_type": "code",
   "execution_count": null,
   "id": "dfd46a54-ff53-43a5-bcd1-453913c9d950",
   "metadata": {},
   "outputs": [],
   "source": []
  }
 ],
 "metadata": {
  "kernelspec": {
   "display_name": "Python (epoch_kl)",
   "language": "python",
   "name": "epoch_kl"
  },
  "language_info": {
   "codemirror_mode": {
    "name": "ipython",
    "version": 3
   },
   "file_extension": ".py",
   "mimetype": "text/x-python",
   "name": "python",
   "nbconvert_exporter": "python",
   "pygments_lexer": "ipython3",
   "version": "3.10.10"
  }
 },
 "nbformat": 4,
 "nbformat_minor": 5
}
